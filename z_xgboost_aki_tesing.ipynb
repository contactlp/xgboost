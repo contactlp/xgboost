{
 "cells": [
  {
   "cell_type": "code",
   "execution_count": 1,
   "metadata": {
    "lines_to_next_cell": 2
   },
   "outputs": [
    {
     "name": "stdout",
     "output_type": "stream",
     "text": [
      "xgb.__version__ :  1.0.0-SNAPSHOT\n",
      "set()\n",
      "set()\n"
     ]
    }
   ],
   "source": [
    "from sklearn.datasets import load_boston\n",
    "import xgboost as xgb\n",
    "from sklearn.metrics import mean_squared_error\n",
    "import pandas as pd\n",
    "import numpy as np\n",
    "from sklearn.model_selection import train_test_split\n",
    "import os\n",
    "from sklearn.metrics import roc_auc_score,  roc_curve\n",
    "from matplotlib import pyplot\n",
    "from sklearn.metrics import auc\n",
    "import seaborn as sns\n",
    "from sklearn import metrics\n",
    "import datetime\n",
    "from sklearn.model_selection import GridSearchCV\n",
    "from bayes_opt import BayesianOptimization\n",
    "import warnings\n",
    "\n",
    "print(\"xgb.__version__ : \",xgb.__version__)\n",
    "data_dir= '/home/lpatel/projects/AKI/data_592v'\n",
    "#data_dir= '~/projects/AKI/test'\n",
    "#data_dir='/home/lpatel/projects/AKI/data'\n",
    "train_csv = os.path.join(data_dir,'train_csv.csv')\n",
    "test_csv = os.path.join(data_dir,'test_csv.csv')\n",
    "weight_csv = os.path.join(data_dir,'weight_csv.csv')\n",
    "\n",
    "train = pd.read_csv(train_csv)\n",
    "test = pd.read_csv(test_csv)\n",
    "weight = pd.read_csv(weight_csv)\n",
    "#column names are formted inconsitantly \n",
    "weight['col_fmt'] = weight.col.str.replace('-','.').str.replace(':','.')\n",
    "\n",
    "\n",
    "cols = train.columns.tolist()\n",
    "X_col = cols[1:-1]\n",
    "y_col = cols[-1]\n",
    "\n",
    "X_train,y_train = train[X_col],train[y_col]\n",
    "X_test,  y_test = test[X_col] ,test[y_col]\n",
    "\n",
    "print(set(X_col) -set(weight.col_fmt.tolist()) )\n",
    "print(set(weight.col_fmt.tolist()) - set(X_col) )\n",
    "\n",
    "weight1_lst =  weight.set_index(keys=['col_fmt']).reindex(X_train.columns.tolist()).weight1.tolist()\n",
    "weight2_lst =  weight.set_index(keys=['col_fmt']).reindex(X_train.columns.tolist()).weight2.tolist()\n",
    "weight3_lst =  weight.set_index(keys=['col_fmt']).reindex(X_train.columns.tolist()).weight3.tolist()\n",
    "weight4_lst =  weight.set_index(keys=['col_fmt']).reindex(X_train.columns.tolist()).weight4.tolist()\n",
    "weight5_lst =  weight.set_index(keys=['col_fmt']).reindex(X_train.columns.tolist()).weight5.tolist()\n"
   ]
  },
  {
   "cell_type": "code",
   "execution_count": null,
   "metadata": {},
   "outputs": [],
   "source": [
    "# fit model no training data\n",
    "params = {'booster': 'gbtree', 'max_depth': 10, 'min_child_weight': 10, 'eta': 0.3, 'objective': 'binary:logistic', 'n_jobs': 20, 'silent': True, 'eval_metric': 'logloss', 'subsample': 0.8, 'colsample_bytree': 0.5000000007978516, 'seed': 1001}\n",
    "model = xgb.XGBClassifier(\n",
    "    n_jobs = 20,\n",
    "    params = params\n",
    ")\n",
    "model.fit(X_train, y_train)\n",
    "print(model.get_xgb_params)\n",
    "df= pd.DataFrame({'cols':X_train.columns,'feature_importances' :model.feature_importances_ }).sort_values(by='feature_importances',ascending=False)\n",
    "t = datetime.datetime.now().strftime('%Y-%m-%d--%H-%M-%S')\n",
    "df.to_csv(\"/home/lpatel/aki/results/feature_importance_tesing.csv\"+t+'_w1',index=False)\n",
    "exit(0)"
   ]
  },
  {
   "cell_type": "code",
   "execution_count": 2,
   "metadata": {
    "lines_to_next_cell": 2
   },
   "outputs": [],
   "source": [
    "# def algorithm_pipeline(X_train_data, X_test_data, y_train_data, y_test_data, \n",
    "#                        model, param_grid, cv=10, scoring_fit = 'roc_auc',\n",
    "#                        do_probabilities = True):\n",
    "    \n",
    "#     gs = GridSearchCV(\n",
    "#         estimator=model,\n",
    "#         param_grid=param_grid, \n",
    "#         cv=cv, \n",
    "#         n_jobs=4, \n",
    "#         scoring=scoring_fit,\n",
    "#         verbose=2\n",
    "#     )\n",
    "#     fitted_model = gs.fit(X_train_data, y_train_data)\n",
    "    \n",
    "#     if do_probabilities:\n",
    "#         pred = fitted_model.predict_proba(X_test_data)\n",
    "#     else:\n",
    "#         pred = fitted_model.predict(X_test_data)\n",
    "    \n",
    "#     return fitted_model, pred\n",
    "\n",
    "# model = xgb.XGBClassifier(\n",
    "#     objective='binary:logistic',\n",
    "#     n_jobs = 6\n",
    "# )\n",
    "# param_grid = {\n",
    "#     'max_depth': [3, 6, 9],\n",
    "#     'n_estimators': [500, 1000, 1500],\n",
    "#     'colsample_bytree': [0.05,0.5,0.75],\n",
    "#     'subsample': [0.5, 0.75, 0.9],\n",
    "#     'objective': ['binary:logistic'],\n",
    "\n",
    "# }\n",
    "\n",
    "# # ddddddddddddddddddd\n",
    "\n",
    "\n",
    "# model, pred  = algorithm_pipeline(X_train, X_test, y_train, y_test, model, \n",
    "#                                  param_grid, cv=5)\n",
    "\n",
    "# data = pd.DataFrame(model.cv_results_)\n",
    "# # pd.options.display.max_columns = None\n",
    "# # pd.options.display.max_rows = None\n",
    "# print(data)\n",
    "# t = datetime.datetime.now().strftime('%Y-%m-%d--%H-%M-%S')\n",
    "# data.to_csv(\"~/results_parm_cv.csv_weight1_lst\" + t)\n",
    "# print (\"done\")"
   ]
  },
  {
   "cell_type": "code",
   "execution_count": 3,
   "metadata": {
    "lines_to_next_cell": 2
   },
   "outputs": [],
   "source": [
    "AUC_LIST = []\n",
    "LOG_LOSS_LIST = []\n",
    "ITERbest_LIST = []\n",
    "PARAM_LIST = []\n",
    "\n",
    "dtrain = xgb.DMatrix(X_train, label = y_train)\n",
    "\n",
    "\n",
    "def XGB_CV(max_depth,\n",
    "          # n_estimators, \n",
    "           colsample_bytree, subsample, min_child_weight,eta):\n",
    "\n",
    "\n",
    "    global AUC_LIST\n",
    "    global LOG_LOSS_LIST\n",
    "    global ITERbest_LIST\n",
    "    global PARAM_LIST\n",
    "    \n",
    "    #print(n_estimators)\n",
    "\n",
    "    paramt = {\n",
    "              'booster' : 'gbtree',\n",
    "              'max_depth' :  int(max_depth),\n",
    "              'min_child_weight' : int(min_child_weight),\n",
    "#               'n_estimators': int(n_estimators),\n",
    "              'eta' : float(eta),\n",
    "              'objective' : 'binary:logistic',\n",
    "              'n_jobs' : 20,\n",
    "              'silent' : True,\n",
    "              'eval_metric': 'logloss',\n",
    "              'subsample' : max(min(subsample, 1), 0),\n",
    "              'colsample_bytree' : max(min(colsample_bytree, 1), 0),\n",
    "              'seed' : 1001\n",
    "              }\n",
    "    \n",
    "    PARAM_LIST.append(paramt)\n",
    "\n",
    "    folds = 5\n",
    "    cv_score = 0\n",
    "\n",
    "    print(\"\\n Search parameters (%d-fold validation):\\n %s\" % (folds, paramt), file=log_file )\n",
    "    log_file.flush()\n",
    "\n",
    "    xgbc = xgb.cv(\n",
    "                    paramt,\n",
    "                    dtrain,\n",
    "                    #num_boost_round = int(n_estimators),\n",
    "                    stratified = True,\n",
    "                    nfold = folds,\n",
    "                    early_stopping_rounds = 100,\n",
    "                    metrics = ['auc', 'logloss'],\n",
    "                    show_stdv = True\n",
    "               )\n",
    "\n",
    "\n",
    "\n",
    "    auc_score = xgbc['test-auc-mean'].iloc[-1]\n",
    "    logloss_score = xgbc['test-logloss-mean'].iloc[-1]\n",
    "    iterbest = len(xgbc)\n",
    "    AUC_LIST.append(auc_score)\n",
    "    LOG_LOSS_LIST.append(logloss_score)\n",
    "    ITERbest_LIST.append(iterbest)\n",
    "    \n",
    "\n",
    "    return (auc_score*2) - 1\n",
    "\n",
    "\n",
    "\n",
    "XGB_BO = BayesianOptimization(XGB_CV, {\n",
    "                                     'max_depth': (4, 10),\n",
    "#                                      'n_estimators': (1, 10),\n",
    "                                     'colsample_bytree': (0.5, 0.9),\n",
    "                                     'subsample': (0.5, 0.8),\n",
    "                                     'min_child_weight':(1,10),\n",
    "                                     'eta':(0.05,0.3)\n",
    "                                    })"
   ]
  },
  {
   "cell_type": "code",
   "execution_count": 4,
   "metadata": {},
   "outputs": [
    {
     "name": "stdout",
     "output_type": "stream",
     "text": [
      "|   iter    |  target   | colsam... |    eta    | max_depth | min_ch... | subsample |\n",
      "-------------------------------------------------------------------------------------\n",
      "| \u001b[0m 1       \u001b[0m | \u001b[0m 0.4608  \u001b[0m | \u001b[0m 0.6747  \u001b[0m | \u001b[0m 0.08035 \u001b[0m | \u001b[0m 6.962   \u001b[0m | \u001b[0m 3.543   \u001b[0m | \u001b[0m 0.5251  \u001b[0m |\n",
      "| \u001b[95m 2       \u001b[0m | \u001b[95m 0.5617  \u001b[0m | \u001b[95m 0.7961  \u001b[0m | \u001b[95m 0.2252  \u001b[0m | \u001b[95m 8.711   \u001b[0m | \u001b[95m 7.089   \u001b[0m | \u001b[95m 0.7615  \u001b[0m |\n",
      "| \u001b[0m 3       \u001b[0m | \u001b[0m 0.5278  \u001b[0m | \u001b[0m 0.836   \u001b[0m | \u001b[0m 0.2338  \u001b[0m | \u001b[0m 6.587   \u001b[0m | \u001b[0m 6.334   \u001b[0m | \u001b[0m 0.7527  \u001b[0m |\n",
      "| \u001b[0m 4       \u001b[0m | \u001b[0m 0.458   \u001b[0m | \u001b[0m 0.8588  \u001b[0m | \u001b[0m 0.211   \u001b[0m | \u001b[0m 5.031   \u001b[0m | \u001b[0m 2.583   \u001b[0m | \u001b[0m 0.7612  \u001b[0m |\n",
      "| \u001b[0m 5       \u001b[0m | \u001b[0m 0.5187  \u001b[0m | \u001b[0m 0.886   \u001b[0m | \u001b[0m 0.267   \u001b[0m | \u001b[0m 6.684   \u001b[0m | \u001b[0m 1.401   \u001b[0m | \u001b[0m 0.5772  \u001b[0m |\n",
      "| \u001b[0m 6       \u001b[0m | \u001b[0m 0.5085  \u001b[0m | \u001b[0m 0.6191  \u001b[0m | \u001b[0m 0.2461  \u001b[0m | \u001b[0m 5.187   \u001b[0m | \u001b[0m 7.596   \u001b[0m | \u001b[0m 0.653   \u001b[0m |\n",
      "| \u001b[0m 7       \u001b[0m | \u001b[0m 0.5135  \u001b[0m | \u001b[0m 0.5993  \u001b[0m | \u001b[0m 0.1063  \u001b[0m | \u001b[0m 7.333   \u001b[0m | \u001b[0m 9.847   \u001b[0m | \u001b[0m 0.587   \u001b[0m |\n",
      "| \u001b[0m 8       \u001b[0m | \u001b[0m 0.5262  \u001b[0m | \u001b[0m 0.5582  \u001b[0m | \u001b[0m 0.1383  \u001b[0m | \u001b[0m 9.903   \u001b[0m | \u001b[0m 2.868   \u001b[0m | \u001b[0m 0.6627  \u001b[0m |\n",
      "| \u001b[0m 9       \u001b[0m | \u001b[0m 0.4596  \u001b[0m | \u001b[0m 0.6658  \u001b[0m | \u001b[0m 0.2797  \u001b[0m | \u001b[0m 4.182   \u001b[0m | \u001b[0m 2.648   \u001b[0m | \u001b[0m 0.5712  \u001b[0m |\n",
      "| \u001b[0m 10      \u001b[0m | \u001b[0m 0.5142  \u001b[0m | \u001b[0m 0.7248  \u001b[0m | \u001b[0m 0.2289  \u001b[0m | \u001b[0m 6.945   \u001b[0m | \u001b[0m 5.089   \u001b[0m | \u001b[0m 0.7776  \u001b[0m |\n",
      "| \u001b[95m 11      \u001b[0m | \u001b[95m 0.5786  \u001b[0m | \u001b[95m 0.9     \u001b[0m | \u001b[95m 0.3     \u001b[0m | \u001b[95m 10.0    \u001b[0m | \u001b[95m 10.0    \u001b[0m | \u001b[95m 0.8     \u001b[0m |\n",
      "| \u001b[0m 12      \u001b[0m | \u001b[0m 0.5679  \u001b[0m | \u001b[0m 0.5     \u001b[0m | \u001b[0m 0.3     \u001b[0m | \u001b[0m 10.0    \u001b[0m | \u001b[0m 1.0     \u001b[0m | \u001b[0m 0.8     \u001b[0m |\n",
      "| \u001b[0m 13      \u001b[0m | \u001b[0m 0.4558  \u001b[0m | \u001b[0m 0.9     \u001b[0m | \u001b[0m 0.3     \u001b[0m | \u001b[0m 4.0     \u001b[0m | \u001b[0m 10.0    \u001b[0m | \u001b[0m 0.8     \u001b[0m |\n",
      "| \u001b[95m 14      \u001b[0m | \u001b[95m 0.5981  \u001b[0m | \u001b[95m 0.5     \u001b[0m | \u001b[95m 0.3     \u001b[0m | \u001b[95m 10.0    \u001b[0m | \u001b[95m 8.379   \u001b[0m | \u001b[95m 0.8     \u001b[0m |\n",
      "| \u001b[0m 15      \u001b[0m | \u001b[0m 0.5662  \u001b[0m | \u001b[0m 0.5554  \u001b[0m | \u001b[0m 0.2938  \u001b[0m | \u001b[0m 9.956   \u001b[0m | \u001b[0m 7.142   \u001b[0m | \u001b[0m 0.5345  \u001b[0m |\n",
      "| \u001b[0m 16      \u001b[0m | \u001b[0m 0.5655  \u001b[0m | \u001b[0m 0.9     \u001b[0m | \u001b[0m 0.3     \u001b[0m | \u001b[0m 10.0    \u001b[0m | \u001b[0m 1.0     \u001b[0m | \u001b[0m 0.8     \u001b[0m |\n",
      "| \u001b[0m 17      \u001b[0m | \u001b[0m 0.5695  \u001b[0m | \u001b[0m 0.555   \u001b[0m | \u001b[0m 0.2997  \u001b[0m | \u001b[0m 8.606   \u001b[0m | \u001b[0m 9.069   \u001b[0m | \u001b[0m 0.7892  \u001b[0m |\n",
      "| \u001b[95m 18      \u001b[0m | \u001b[95m 0.6031  \u001b[0m | \u001b[95m 0.5     \u001b[0m | \u001b[95m 0.3     \u001b[0m | \u001b[95m 10.0    \u001b[0m | \u001b[95m 10.0    \u001b[0m | \u001b[95m 0.8     \u001b[0m |\n",
      "| \u001b[0m 19      \u001b[0m | \u001b[0m 0.4706  \u001b[0m | \u001b[0m 0.5     \u001b[0m | \u001b[0m 0.3     \u001b[0m | \u001b[0m 4.0     \u001b[0m | \u001b[0m 1.0     \u001b[0m | \u001b[0m 0.8     \u001b[0m |\n",
      "| \u001b[0m 20      \u001b[0m | \u001b[0m 0.5064  \u001b[0m | \u001b[0m 0.5013  \u001b[0m | \u001b[0m 0.074   \u001b[0m | \u001b[0m 9.774   \u001b[0m | \u001b[0m 9.364   \u001b[0m | \u001b[0m 0.7387  \u001b[0m |\n",
      "| \u001b[0m 21      \u001b[0m | \u001b[0m 0.5798  \u001b[0m | \u001b[0m 0.5     \u001b[0m | \u001b[0m 0.3     \u001b[0m | \u001b[0m 10.0    \u001b[0m | \u001b[0m 5.609   \u001b[0m | \u001b[0m 0.8     \u001b[0m |\n",
      "| \u001b[0m 22      \u001b[0m | \u001b[0m 0.5608  \u001b[0m | \u001b[0m 0.5     \u001b[0m | \u001b[0m 0.3     \u001b[0m | \u001b[0m 7.072   \u001b[0m | \u001b[0m 8.293   \u001b[0m | \u001b[0m 0.8     \u001b[0m |\n",
      "| \u001b[0m 23      \u001b[0m | \u001b[0m 0.5584  \u001b[0m | \u001b[0m 0.5     \u001b[0m | \u001b[0m 0.3     \u001b[0m | \u001b[0m 8.359   \u001b[0m | \u001b[0m 1.0     \u001b[0m | \u001b[0m 0.8     \u001b[0m |\n",
      "| \u001b[0m 24      \u001b[0m | \u001b[0m 0.5714  \u001b[0m | \u001b[0m 0.9     \u001b[0m | \u001b[0m 0.3     \u001b[0m | \u001b[0m 9.235   \u001b[0m | \u001b[0m 3.855   \u001b[0m | \u001b[0m 0.8     \u001b[0m |\n",
      "| \u001b[0m 25      \u001b[0m | \u001b[0m 0.5479  \u001b[0m | \u001b[0m 0.5147  \u001b[0m | \u001b[0m 0.2706  \u001b[0m | \u001b[0m 6.385   \u001b[0m | \u001b[0m 9.971   \u001b[0m | \u001b[0m 0.7846  \u001b[0m |\n",
      "| \u001b[0m 26      \u001b[0m | \u001b[0m 0.5773  \u001b[0m | \u001b[0m 0.5     \u001b[0m | \u001b[0m 0.3     \u001b[0m | \u001b[0m 10.0    \u001b[0m | \u001b[0m 10.0    \u001b[0m | \u001b[0m 0.5     \u001b[0m |\n",
      "| \u001b[0m 27      \u001b[0m | \u001b[0m 0.5639  \u001b[0m | \u001b[0m 0.5     \u001b[0m | \u001b[0m 0.3     \u001b[0m | \u001b[0m 9.567   \u001b[0m | \u001b[0m 6.805   \u001b[0m | \u001b[0m 0.8     \u001b[0m |\n",
      "| \u001b[0m 28      \u001b[0m | \u001b[0m 0.5731  \u001b[0m | \u001b[0m 0.9     \u001b[0m | \u001b[0m 0.3     \u001b[0m | \u001b[0m 10.0    \u001b[0m | \u001b[0m 8.265   \u001b[0m | \u001b[0m 0.8     \u001b[0m |\n",
      "| \u001b[0m 29      \u001b[0m | \u001b[0m 0.457   \u001b[0m | \u001b[0m 0.9     \u001b[0m | \u001b[0m 0.3     \u001b[0m | \u001b[0m 4.0     \u001b[0m | \u001b[0m 5.565   \u001b[0m | \u001b[0m 0.8     \u001b[0m |\n",
      "| \u001b[0m 30      \u001b[0m | \u001b[0m 0.5532  \u001b[0m | \u001b[0m 0.5112  \u001b[0m | \u001b[0m 0.3     \u001b[0m | \u001b[0m 8.595   \u001b[0m | \u001b[0m 5.0     \u001b[0m | \u001b[0m 0.5     \u001b[0m |\n",
      "| \u001b[0m 31      \u001b[0m | \u001b[0m 0.5628  \u001b[0m | \u001b[0m 0.8297  \u001b[0m | \u001b[0m 0.2953  \u001b[0m | \u001b[0m 9.943   \u001b[0m | \u001b[0m 4.59    \u001b[0m | \u001b[0m 0.592   \u001b[0m |\n",
      "| \u001b[0m 32      \u001b[0m | \u001b[0m 0.5463  \u001b[0m | \u001b[0m 0.9     \u001b[0m | \u001b[0m 0.3     \u001b[0m | \u001b[0m 7.44    \u001b[0m | \u001b[0m 10.0    \u001b[0m | \u001b[0m 0.8     \u001b[0m |\n",
      "| \u001b[0m 33      \u001b[0m | \u001b[0m 0.541   \u001b[0m | \u001b[0m 0.9     \u001b[0m | \u001b[0m 0.3     \u001b[0m | \u001b[0m 7.283   \u001b[0m | \u001b[0m 7.556   \u001b[0m | \u001b[0m 0.5     \u001b[0m |\n",
      "| \u001b[0m 34      \u001b[0m | \u001b[0m 0.548   \u001b[0m | \u001b[0m 0.8893  \u001b[0m | \u001b[0m 0.3     \u001b[0m | \u001b[0m 9.171   \u001b[0m | \u001b[0m 1.0     \u001b[0m | \u001b[0m 0.5     \u001b[0m |\n",
      "| \u001b[0m 35      \u001b[0m | \u001b[0m 0.5525  \u001b[0m | \u001b[0m 0.9     \u001b[0m | \u001b[0m 0.3     \u001b[0m | \u001b[0m 8.247   \u001b[0m | \u001b[0m 2.184   \u001b[0m | \u001b[0m 0.8     \u001b[0m |\n",
      "| \u001b[0m 36      \u001b[0m | \u001b[0m 0.5632  \u001b[0m | \u001b[0m 0.572   \u001b[0m | \u001b[0m 0.2957  \u001b[0m | \u001b[0m 7.925   \u001b[0m | \u001b[0m 7.409   \u001b[0m | \u001b[0m 0.7956  \u001b[0m |\n",
      "| \u001b[0m 37      \u001b[0m | \u001b[0m 0.5457  \u001b[0m | \u001b[0m 0.8969  \u001b[0m | \u001b[0m 0.2848  \u001b[0m | \u001b[0m 8.83    \u001b[0m | \u001b[0m 4.993   \u001b[0m | \u001b[0m 0.7832  \u001b[0m |\n",
      "| \u001b[0m 38      \u001b[0m | \u001b[0m 0.5819  \u001b[0m | \u001b[0m 0.5     \u001b[0m | \u001b[0m 0.3     \u001b[0m | \u001b[0m 9.666   \u001b[0m | \u001b[0m 3.707   \u001b[0m | \u001b[0m 0.8     \u001b[0m |\n",
      "| \u001b[0m 39      \u001b[0m | \u001b[0m 0.5696  \u001b[0m | \u001b[0m 0.522   \u001b[0m | \u001b[0m 0.3     \u001b[0m | \u001b[0m 8.765   \u001b[0m | \u001b[0m 3.32    \u001b[0m | \u001b[0m 0.8     \u001b[0m |\n",
      "| \u001b[0m 40      \u001b[0m | \u001b[0m 0.575   \u001b[0m | \u001b[0m 0.5     \u001b[0m | \u001b[0m 0.3     \u001b[0m | \u001b[0m 9.62    \u001b[0m | \u001b[0m 7.724   \u001b[0m | \u001b[0m 0.7835  \u001b[0m |\n",
      "| \u001b[0m 41      \u001b[0m | \u001b[0m 0.5745  \u001b[0m | \u001b[0m 0.5276  \u001b[0m | \u001b[0m 0.2989  \u001b[0m | \u001b[0m 9.971   \u001b[0m | \u001b[0m 8.598   \u001b[0m | \u001b[0m 0.7898  \u001b[0m |\n",
      "| \u001b[0m 42      \u001b[0m | \u001b[0m 0.4544  \u001b[0m | \u001b[0m 0.5018  \u001b[0m | \u001b[0m 0.1253  \u001b[0m | \u001b[0m 4.027   \u001b[0m | \u001b[0m 8.095   \u001b[0m | \u001b[0m 0.7839  \u001b[0m |\n",
      "| \u001b[0m 43      \u001b[0m | \u001b[0m 0.4786  \u001b[0m | \u001b[0m 0.8628  \u001b[0m | \u001b[0m 0.2817  \u001b[0m | \u001b[0m 5.353   \u001b[0m | \u001b[0m 8.768   \u001b[0m | \u001b[0m 0.7826  \u001b[0m |\n",
      "| \u001b[0m 44      \u001b[0m | \u001b[0m 0.5775  \u001b[0m | \u001b[0m 0.5     \u001b[0m | \u001b[0m 0.3     \u001b[0m | \u001b[0m 8.407   \u001b[0m | \u001b[0m 10.0    \u001b[0m | \u001b[0m 0.8     \u001b[0m |\n",
      "| \u001b[0m 45      \u001b[0m | \u001b[0m 0.4286  \u001b[0m | \u001b[0m 0.9     \u001b[0m | \u001b[0m 0.05    \u001b[0m | \u001b[0m 4.0     \u001b[0m | \u001b[0m 1.0     \u001b[0m | \u001b[0m 0.5     \u001b[0m |\n",
      "| \u001b[0m 46      \u001b[0m | \u001b[0m 0.5017  \u001b[0m | \u001b[0m 0.5     \u001b[0m | \u001b[0m 0.3     \u001b[0m | \u001b[0m 5.522   \u001b[0m | \u001b[0m 1.0     \u001b[0m | \u001b[0m 0.5     \u001b[0m |\n",
      "| \u001b[0m 47      \u001b[0m | \u001b[0m 0.5215  \u001b[0m | \u001b[0m 0.5     \u001b[0m | \u001b[0m 0.3     \u001b[0m | \u001b[0m 5.514   \u001b[0m | \u001b[0m 5.918   \u001b[0m | \u001b[0m 0.5     \u001b[0m |\n",
      "| \u001b[0m 48      \u001b[0m | \u001b[0m 0.5318  \u001b[0m | \u001b[0m 0.5131  \u001b[0m | \u001b[0m 0.1043  \u001b[0m | \u001b[0m 9.969   \u001b[0m | \u001b[0m 4.491   \u001b[0m | \u001b[0m 0.7877  \u001b[0m |\n",
      "| \u001b[0m 49      \u001b[0m | \u001b[0m 0.573   \u001b[0m | \u001b[0m 0.522   \u001b[0m | \u001b[0m 0.238   \u001b[0m | \u001b[0m 9.993   \u001b[0m | \u001b[0m 7.518   \u001b[0m | \u001b[0m 0.7998  \u001b[0m |\n",
      "| \u001b[0m 50      \u001b[0m | \u001b[0m 0.5673  \u001b[0m | \u001b[0m 0.695   \u001b[0m | \u001b[0m 0.297   \u001b[0m | \u001b[0m 8.368   \u001b[0m | \u001b[0m 6.338   \u001b[0m | \u001b[0m 0.5697  \u001b[0m |\n",
      "| \u001b[0m 51      \u001b[0m | \u001b[0m 0.5477  \u001b[0m | \u001b[0m 0.826   \u001b[0m | \u001b[0m 0.2932  \u001b[0m | \u001b[0m 9.429   \u001b[0m | \u001b[0m 1.963   \u001b[0m | \u001b[0m 0.7674  \u001b[0m |\n",
      "| \u001b[0m 52      \u001b[0m | \u001b[0m 0.5678  \u001b[0m | \u001b[0m 0.5335  \u001b[0m | \u001b[0m 0.2979  \u001b[0m | \u001b[0m 7.983   \u001b[0m | \u001b[0m 8.762   \u001b[0m | \u001b[0m 0.7415  \u001b[0m |\n",
      "| \u001b[0m 53      \u001b[0m | \u001b[0m 0.4653  \u001b[0m | \u001b[0m 0.5     \u001b[0m | \u001b[0m 0.05    \u001b[0m | \u001b[0m 6.309   \u001b[0m | \u001b[0m 1.0     \u001b[0m | \u001b[0m 0.8     \u001b[0m |\n",
      "| \u001b[0m 54      \u001b[0m | \u001b[0m 0.5596  \u001b[0m | \u001b[0m 0.9     \u001b[0m | \u001b[0m 0.3     \u001b[0m | \u001b[0m 10.0    \u001b[0m | \u001b[0m 2.587   \u001b[0m | \u001b[0m 0.8     \u001b[0m |\n",
      "| \u001b[0m 55      \u001b[0m | \u001b[0m 0.5598  \u001b[0m | \u001b[0m 0.564   \u001b[0m | \u001b[0m 0.2986  \u001b[0m | \u001b[0m 9.426   \u001b[0m | \u001b[0m 3.574   \u001b[0m | \u001b[0m 0.5065  \u001b[0m |\n",
      "| \u001b[0m 56      \u001b[0m | \u001b[0m 0.5828  \u001b[0m | \u001b[0m 0.5042  \u001b[0m | \u001b[0m 0.2972  \u001b[0m | \u001b[0m 9.973   \u001b[0m | \u001b[0m 7.688   \u001b[0m | \u001b[0m 0.7896  \u001b[0m |\n",
      "| \u001b[0m 57      \u001b[0m | \u001b[0m 0.5597  \u001b[0m | \u001b[0m 0.858   \u001b[0m | \u001b[0m 0.2687  \u001b[0m | \u001b[0m 9.917   \u001b[0m | \u001b[0m 6.069   \u001b[0m | \u001b[0m 0.5591  \u001b[0m |\n"
     ]
    },
    {
     "name": "stdout",
     "output_type": "stream",
     "text": [
      "| \u001b[0m 58      \u001b[0m | \u001b[0m 0.5493  \u001b[0m | \u001b[0m 0.5057  \u001b[0m | \u001b[0m 0.2908  \u001b[0m | \u001b[0m 7.238   \u001b[0m | \u001b[0m 2.103   \u001b[0m | \u001b[0m 0.6868  \u001b[0m |\n",
      "| \u001b[0m 59      \u001b[0m | \u001b[0m 0.5496  \u001b[0m | \u001b[0m 0.5347  \u001b[0m | \u001b[0m 0.2856  \u001b[0m | \u001b[0m 7.155   \u001b[0m | \u001b[0m 6.158   \u001b[0m | \u001b[0m 0.5336  \u001b[0m |\n",
      "| \u001b[0m 60      \u001b[0m | \u001b[0m 0.5205  \u001b[0m | \u001b[0m 0.5302  \u001b[0m | \u001b[0m 0.2996  \u001b[0m | \u001b[0m 5.018   \u001b[0m | \u001b[0m 9.88    \u001b[0m | \u001b[0m 0.5351  \u001b[0m |\n",
      "| \u001b[0m 61      \u001b[0m | \u001b[0m 0.5638  \u001b[0m | \u001b[0m 0.5571  \u001b[0m | \u001b[0m 0.2983  \u001b[0m | \u001b[0m 9.986   \u001b[0m | \u001b[0m 8.19    \u001b[0m | \u001b[0m 0.6342  \u001b[0m |\n",
      "| \u001b[0m 62      \u001b[0m | \u001b[0m 0.5164  \u001b[0m | \u001b[0m 0.5096  \u001b[0m | \u001b[0m 0.2965  \u001b[0m | \u001b[0m 5.284   \u001b[0m | \u001b[0m 4.58    \u001b[0m | \u001b[0m 0.7925  \u001b[0m |\n",
      "| \u001b[0m 63      \u001b[0m | \u001b[0m 0.5283  \u001b[0m | \u001b[0m 0.5     \u001b[0m | \u001b[0m 0.3     \u001b[0m | \u001b[0m 7.798   \u001b[0m | \u001b[0m 1.74    \u001b[0m | \u001b[0m 0.5     \u001b[0m |\n",
      "| \u001b[0m 64      \u001b[0m | \u001b[0m 0.5801  \u001b[0m | \u001b[0m 0.5226  \u001b[0m | \u001b[0m 0.2996  \u001b[0m | \u001b[0m 9.006   \u001b[0m | \u001b[0m 9.996   \u001b[0m | \u001b[0m 0.7876  \u001b[0m |\n",
      "| \u001b[0m 65      \u001b[0m | \u001b[0m 0.573   \u001b[0m | \u001b[0m 0.5702  \u001b[0m | \u001b[0m 0.2722  \u001b[0m | \u001b[0m 8.634   \u001b[0m | \u001b[0m 8.191   \u001b[0m | \u001b[0m 0.7941  \u001b[0m |\n",
      "| \u001b[0m 66      \u001b[0m | \u001b[0m 0.5394  \u001b[0m | \u001b[0m 0.8887  \u001b[0m | \u001b[0m 0.2875  \u001b[0m | \u001b[0m 7.827   \u001b[0m | \u001b[0m 6.693   \u001b[0m | \u001b[0m 0.7839  \u001b[0m |\n",
      "| \u001b[0m 67      \u001b[0m | \u001b[0m 0.5643  \u001b[0m | \u001b[0m 0.5411  \u001b[0m | \u001b[0m 0.2947  \u001b[0m | \u001b[0m 9.571   \u001b[0m | \u001b[0m 5.768   \u001b[0m | \u001b[0m 0.5105  \u001b[0m |\n",
      "| \u001b[0m 68      \u001b[0m | \u001b[0m 0.5512  \u001b[0m | \u001b[0m 0.5     \u001b[0m | \u001b[0m 0.3     \u001b[0m | \u001b[0m 8.464   \u001b[0m | \u001b[0m 7.233   \u001b[0m | \u001b[0m 0.5     \u001b[0m |\n",
      "| \u001b[0m 69      \u001b[0m | \u001b[0m 0.4753  \u001b[0m | \u001b[0m 0.5265  \u001b[0m | \u001b[0m 0.06307 \u001b[0m | \u001b[0m 6.449   \u001b[0m | \u001b[0m 7.363   \u001b[0m | \u001b[0m 0.7892  \u001b[0m |\n",
      "| \u001b[0m 70      \u001b[0m | \u001b[0m 0.5234  \u001b[0m | \u001b[0m 0.8936  \u001b[0m | \u001b[0m 0.2918  \u001b[0m | \u001b[0m 6.009   \u001b[0m | \u001b[0m 4.136   \u001b[0m | \u001b[0m 0.5273  \u001b[0m |\n",
      "| \u001b[0m 71      \u001b[0m | \u001b[0m 0.5424  \u001b[0m | \u001b[0m 0.6753  \u001b[0m | \u001b[0m 0.3     \u001b[0m | \u001b[0m 7.872   \u001b[0m | \u001b[0m 3.712   \u001b[0m | \u001b[0m 0.8     \u001b[0m |\n",
      "| \u001b[0m 72      \u001b[0m | \u001b[0m 0.4607  \u001b[0m | \u001b[0m 0.7726  \u001b[0m | \u001b[0m 0.283   \u001b[0m | \u001b[0m 4.048   \u001b[0m | \u001b[0m 7.5     \u001b[0m | \u001b[0m 0.5144  \u001b[0m |\n",
      "| \u001b[0m 73      \u001b[0m | \u001b[0m 0.5559  \u001b[0m | \u001b[0m 0.8855  \u001b[0m | \u001b[0m 0.2868  \u001b[0m | \u001b[0m 8.671   \u001b[0m | \u001b[0m 8.526   \u001b[0m | \u001b[0m 0.7882  \u001b[0m |\n",
      "| \u001b[0m 74      \u001b[0m | \u001b[0m 0.551   \u001b[0m | \u001b[0m 0.5     \u001b[0m | \u001b[0m 0.3     \u001b[0m | \u001b[0m 6.524   \u001b[0m | \u001b[0m 9.705   \u001b[0m | \u001b[0m 0.5     \u001b[0m |\n",
      "| \u001b[0m 75      \u001b[0m | \u001b[0m 0.5828  \u001b[0m | \u001b[0m 0.9     \u001b[0m | \u001b[0m 0.3     \u001b[0m | \u001b[0m 10.0    \u001b[0m | \u001b[0m 6.884   \u001b[0m | \u001b[0m 0.8     \u001b[0m |\n",
      "| \u001b[0m 76      \u001b[0m | \u001b[0m 0.5656  \u001b[0m | \u001b[0m 0.8233  \u001b[0m | \u001b[0m 0.2922  \u001b[0m | \u001b[0m 9.922   \u001b[0m | \u001b[0m 3.619   \u001b[0m | \u001b[0m 0.7498  \u001b[0m |\n",
      "| \u001b[0m 77      \u001b[0m | \u001b[0m 0.5239  \u001b[0m | \u001b[0m 0.6248  \u001b[0m | \u001b[0m 0.2949  \u001b[0m | \u001b[0m 6.367   \u001b[0m | \u001b[0m 2.969   \u001b[0m | \u001b[0m 0.778   \u001b[0m |\n",
      "| \u001b[0m 78      \u001b[0m | \u001b[0m 0.543   \u001b[0m | \u001b[0m 0.8944  \u001b[0m | \u001b[0m 0.2822  \u001b[0m | \u001b[0m 7.37    \u001b[0m | \u001b[0m 1.045   \u001b[0m | \u001b[0m 0.7982  \u001b[0m |\n",
      "| \u001b[0m 79      \u001b[0m | \u001b[0m 0.5717  \u001b[0m | \u001b[0m 0.5014  \u001b[0m | \u001b[0m 0.2979  \u001b[0m | \u001b[0m 9.762   \u001b[0m | \u001b[0m 5.03    \u001b[0m | \u001b[0m 0.7458  \u001b[0m |\n",
      "| \u001b[0m 80      \u001b[0m | \u001b[0m 0.5746  \u001b[0m | \u001b[0m 0.5268  \u001b[0m | \u001b[0m 0.2995  \u001b[0m | \u001b[0m 9.859   \u001b[0m | \u001b[0m 3.208   \u001b[0m | \u001b[0m 0.7828  \u001b[0m |\n",
      "| \u001b[0m 81      \u001b[0m | \u001b[0m 0.5734  \u001b[0m | \u001b[0m 0.5093  \u001b[0m | \u001b[0m 0.2821  \u001b[0m | \u001b[0m 9.98    \u001b[0m | \u001b[0m 6.2     \u001b[0m | \u001b[0m 0.7059  \u001b[0m |\n",
      "| \u001b[0m 82      \u001b[0m | \u001b[0m 0.566   \u001b[0m | \u001b[0m 0.8271  \u001b[0m | \u001b[0m 0.2978  \u001b[0m | \u001b[0m 8.877   \u001b[0m | \u001b[0m 7.385   \u001b[0m | \u001b[0m 0.7887  \u001b[0m |\n",
      "| \u001b[0m 83      \u001b[0m | \u001b[0m 0.5775  \u001b[0m | \u001b[0m 0.5688  \u001b[0m | \u001b[0m 0.2897  \u001b[0m | \u001b[0m 9.773   \u001b[0m | \u001b[0m 8.295   \u001b[0m | \u001b[0m 0.799   \u001b[0m |\n",
      "| \u001b[0m 84      \u001b[0m | \u001b[0m 0.5371  \u001b[0m | \u001b[0m 0.6543  \u001b[0m | \u001b[0m 0.288   \u001b[0m | \u001b[0m 9.942   \u001b[0m | \u001b[0m 1.077   \u001b[0m | \u001b[0m 0.5134  \u001b[0m |\n",
      "| \u001b[0m 85      \u001b[0m | \u001b[0m 0.5723  \u001b[0m | \u001b[0m 0.5663  \u001b[0m | \u001b[0m 0.2869  \u001b[0m | \u001b[0m 8.869   \u001b[0m | \u001b[0m 6.237   \u001b[0m | \u001b[0m 0.7239  \u001b[0m |\n",
      "| \u001b[0m 86      \u001b[0m | \u001b[0m 0.5568  \u001b[0m | \u001b[0m 0.5129  \u001b[0m | \u001b[0m 0.2845  \u001b[0m | \u001b[0m 7.618   \u001b[0m | \u001b[0m 9.49    \u001b[0m | \u001b[0m 0.7983  \u001b[0m |\n",
      "| \u001b[0m 87      \u001b[0m | \u001b[0m 0.5643  \u001b[0m | \u001b[0m 0.863   \u001b[0m | \u001b[0m 0.2965  \u001b[0m | \u001b[0m 9.534   \u001b[0m | \u001b[0m 2.992   \u001b[0m | \u001b[0m 0.7865  \u001b[0m |\n",
      "| \u001b[0m 88      \u001b[0m | \u001b[0m 0.5715  \u001b[0m | \u001b[0m 0.5     \u001b[0m | \u001b[0m 0.3     \u001b[0m | \u001b[0m 10.0    \u001b[0m | \u001b[0m 2.612   \u001b[0m | \u001b[0m 0.8     \u001b[0m |\n",
      "| \u001b[0m 89      \u001b[0m | \u001b[0m 0.563   \u001b[0m | \u001b[0m 0.8731  \u001b[0m | \u001b[0m 0.2996  \u001b[0m | \u001b[0m 9.007   \u001b[0m | \u001b[0m 6.499   \u001b[0m | \u001b[0m 0.5434  \u001b[0m |\n",
      "| \u001b[0m 90      \u001b[0m | \u001b[0m 0.5742  \u001b[0m | \u001b[0m 0.5002  \u001b[0m | \u001b[0m 0.2955  \u001b[0m | \u001b[0m 9.851   \u001b[0m | \u001b[0m 4.548   \u001b[0m | \u001b[0m 0.5098  \u001b[0m |\n",
      "| \u001b[0m 91      \u001b[0m | \u001b[0m 0.5833  \u001b[0m | \u001b[0m 0.5048  \u001b[0m | \u001b[0m 0.2979  \u001b[0m | \u001b[0m 9.721   \u001b[0m | \u001b[0m 4.067   \u001b[0m | \u001b[0m 0.7775  \u001b[0m |\n",
      "| \u001b[0m 92      \u001b[0m | \u001b[0m 0.5732  \u001b[0m | \u001b[0m 0.515   \u001b[0m | \u001b[0m 0.2877  \u001b[0m | \u001b[0m 8.93    \u001b[0m | \u001b[0m 4.14    \u001b[0m | \u001b[0m 0.798   \u001b[0m |\n",
      "| \u001b[0m 93      \u001b[0m | \u001b[0m 0.5835  \u001b[0m | \u001b[0m 0.5044  \u001b[0m | \u001b[0m 0.2565  \u001b[0m | \u001b[0m 9.939   \u001b[0m | \u001b[0m 8.145   \u001b[0m | \u001b[0m 0.7621  \u001b[0m |\n",
      "| \u001b[0m 94      \u001b[0m | \u001b[0m 0.5692  \u001b[0m | \u001b[0m 0.5082  \u001b[0m | \u001b[0m 0.2995  \u001b[0m | \u001b[0m 9.985   \u001b[0m | \u001b[0m 6.094   \u001b[0m | \u001b[0m 0.5902  \u001b[0m |\n",
      "| \u001b[0m 95      \u001b[0m | \u001b[0m 0.5669  \u001b[0m | \u001b[0m 0.534   \u001b[0m | \u001b[0m 0.2927  \u001b[0m | \u001b[0m 9.496   \u001b[0m | \u001b[0m 4.111   \u001b[0m | \u001b[0m 0.6923  \u001b[0m |\n",
      "| \u001b[0m 96      \u001b[0m | \u001b[0m 0.554   \u001b[0m | \u001b[0m 0.5534  \u001b[0m | \u001b[0m 0.2744  \u001b[0m | \u001b[0m 9.997   \u001b[0m | \u001b[0m 3.892   \u001b[0m | \u001b[0m 0.5653  \u001b[0m |\n",
      "| \u001b[0m 97      \u001b[0m | \u001b[0m 0.4634  \u001b[0m | \u001b[0m 0.8996  \u001b[0m | \u001b[0m 0.05247 \u001b[0m | \u001b[0m 9.649   \u001b[0m | \u001b[0m 1.114   \u001b[0m | \u001b[0m 0.7958  \u001b[0m |\n",
      "| \u001b[0m 98      \u001b[0m | \u001b[0m 0.4726  \u001b[0m | \u001b[0m 0.8972  \u001b[0m | \u001b[0m 0.2783  \u001b[0m | \u001b[0m 4.157   \u001b[0m | \u001b[0m 3.952   \u001b[0m | \u001b[0m 0.5357  \u001b[0m |\n",
      "| \u001b[0m 99      \u001b[0m | \u001b[0m 0.564   \u001b[0m | \u001b[0m 0.5366  \u001b[0m | \u001b[0m 0.2942  \u001b[0m | \u001b[0m 8.556   \u001b[0m | \u001b[0m 5.933   \u001b[0m | \u001b[0m 0.7694  \u001b[0m |\n",
      "| \u001b[0m 100     \u001b[0m | \u001b[0m 0.4971  \u001b[0m | \u001b[0m 0.8961  \u001b[0m | \u001b[0m 0.2981  \u001b[0m | \u001b[0m 5.616   \u001b[0m | \u001b[0m 5.279   \u001b[0m | \u001b[0m 0.5206  \u001b[0m |\n",
      "| \u001b[0m 101     \u001b[0m | \u001b[0m 0.5418  \u001b[0m | \u001b[0m 0.8803  \u001b[0m | \u001b[0m 0.2942  \u001b[0m | \u001b[0m 7.442   \u001b[0m | \u001b[0m 8.092   \u001b[0m | \u001b[0m 0.7742  \u001b[0m |\n",
      "| \u001b[0m 102     \u001b[0m | \u001b[0m 0.5403  \u001b[0m | \u001b[0m 0.5     \u001b[0m | \u001b[0m 0.3     \u001b[0m | \u001b[0m 6.265   \u001b[0m | \u001b[0m 8.602   \u001b[0m | \u001b[0m 0.5     \u001b[0m |\n",
      "| \u001b[0m 103     \u001b[0m | \u001b[0m 0.5496  \u001b[0m | \u001b[0m 0.5248  \u001b[0m | \u001b[0m 0.2738  \u001b[0m | \u001b[0m 7.983   \u001b[0m | \u001b[0m 9.97    \u001b[0m | \u001b[0m 0.5233  \u001b[0m |\n",
      "| \u001b[0m 104     \u001b[0m | \u001b[0m 0.5452  \u001b[0m | \u001b[0m 0.8491  \u001b[0m | \u001b[0m 0.3     \u001b[0m | \u001b[0m 7.242   \u001b[0m | \u001b[0m 2.484   \u001b[0m | \u001b[0m 0.8     \u001b[0m |\n",
      "| \u001b[0m 105     \u001b[0m | \u001b[0m 0.4749  \u001b[0m | \u001b[0m 0.8563  \u001b[0m | \u001b[0m 0.2712  \u001b[0m | \u001b[0m 5.592   \u001b[0m | \u001b[0m 1.015   \u001b[0m | \u001b[0m 0.7843  \u001b[0m |\n",
      "| \u001b[0m 106     \u001b[0m | \u001b[0m 0.5471  \u001b[0m | \u001b[0m 0.5091  \u001b[0m | \u001b[0m 0.2959  \u001b[0m | \u001b[0m 6.755   \u001b[0m | \u001b[0m 7.015   \u001b[0m | \u001b[0m 0.5725  \u001b[0m |\n",
      "| \u001b[0m 107     \u001b[0m | \u001b[0m 0.5471  \u001b[0m | \u001b[0m 0.9     \u001b[0m | \u001b[0m 0.3     \u001b[0m | \u001b[0m 8.562   \u001b[0m | \u001b[0m 10.0    \u001b[0m | \u001b[0m 0.8     \u001b[0m |\n",
      "| \u001b[0m 108     \u001b[0m | \u001b[0m 0.57    \u001b[0m | \u001b[0m 0.8873  \u001b[0m | \u001b[0m 0.2849  \u001b[0m | \u001b[0m 9.084   \u001b[0m | \u001b[0m 5.937   \u001b[0m | \u001b[0m 0.777   \u001b[0m |\n",
      "| \u001b[0m 109     \u001b[0m | \u001b[0m 0.5187  \u001b[0m | \u001b[0m 0.5     \u001b[0m | \u001b[0m 0.07965 \u001b[0m | \u001b[0m 10.0    \u001b[0m | \u001b[0m 10.0    \u001b[0m | \u001b[0m 0.8     \u001b[0m |\n",
      "| \u001b[0m 110     \u001b[0m | \u001b[0m 0.5792  \u001b[0m | \u001b[0m 0.5557  \u001b[0m | \u001b[0m 0.2899  \u001b[0m | \u001b[0m 9.802   \u001b[0m | \u001b[0m 9.788   \u001b[0m | \u001b[0m 0.7905  \u001b[0m |\n",
      "=====================================================================================\n"
     ]
    }
   ],
   "source": [
    "t = datetime.datetime.now().strftime('%Y-%m-%d--%H-%M-%S')\n",
    "log_file = open('/home/lpatel/aki/results/test.log'+t, 'a')\n",
    "log_file.flush()\n",
    "\n",
    "with warnings.catch_warnings():\n",
    "    warnings.filterwarnings('ignore')\n",
    "    XGB_BO.maximize(init_points=10, n_iter=100)"
   ]
  },
  {
   "cell_type": "code",
   "execution_count": null,
   "metadata": {},
   "outputs": [],
   "source": [
    "df = pd.DataFrame({\"auc\": AUC_LIST, \"log\": LOG_LOSS_LIST, \"round\": ITERbest_LIST, \"param\": PARAM_LIST })\n",
    "df['param'] =  df['param'].astype(str)\n",
    "\n",
    "t = datetime.datetime.now().strftime('%Y-%m-%d--%H-%M-%S')\n",
    "df.to_csv(\"/home/lpatel/aki/results/cv_result_baysian.csv\"+t, sep=\"|\")"
   ]
  },
  {
   "cell_type": "code",
   "execution_count": 6,
   "metadata": {},
   "outputs": [
    {
     "name": "stdout",
     "output_type": "stream",
     "text": [
      "110 110 110 110\n"
     ]
    }
   ],
   "source": [
    "print (len(ITERbest_LIST),len(PARAM_LIST),len(LOG_LOSS_LIST),len(AUC_LIST))"
   ]
  },
  {
   "cell_type": "code",
   "execution_count": 7,
   "metadata": {
    "collapsed": true
   },
   "outputs": [
    {
     "name": "stdout",
     "output_type": "stream",
     "text": [
      "[0.000985221674876847, 0.000985221674876847, 0.000985221674876847, 0.000985221674876847, 0.000985221674876847, 0.000985221674876847, 0.000985221674876847, 0.000985221674876847, 0.000985221674876847, 0.000985221674876847, 0.000985221674876847, 0.000985221674876847, 0.000985221674876847, 0.000985221674876847, 0.000985221674876847, 0.000985221674876847, 0.000985221674876847, 0.000985221674876847, 0.000985221674876847, 0.000985221674876847, 0.000985221674876847, 0.000985221674876847, 0.000985221674876847, 0.000985221674876847, 0.000985221674876847, 0.000985221674876847, 0.000985221674876847, 0.000985221674876847, 0.000985221674876847, 0.000985221674876847, 0.000985221674876847, 0.000985221674876847, 0.000985221674876847, 0.000985221674876847, 0.000985221674876847, 0.000985221674876847, 0.000985221674876847, 0.000985221674876847, 0.000985221674876847, 0.000985221674876847, 0.000985221674876847, 0.000985221674876847, 0.0032258064516129, 0.000985221674876847, 0.0032258064516129, 0.0032258064516129, 0.000985221674876847, 0.000985221674876847, 0.000985221674876847, 0.0032258064516129, 0.000985221674876847, 0.000985221674876847, 0.000985221674876847, 0.000985221674876847, 0.0032258064516129, 0.000985221674876847, 0.000985221674876847, 0.000985221674876847, 0.000985221674876847, 0.000985221674876847, 0.000985221674876847, 0.000985221674876847, 0.000985221674876847, 0.000985221674876847, 0.000985221674876847, 0.000985221674876847, 0.000985221674876847, 0.000985221674876847, 0.000985221674876847, 0.000985221674876847, 0.0032258064516129, 0.000985221674876847, 0.000985221674876847, 0.0032258064516129, 0.0032258064516129, 0.0032258064516129, 0.000985221674876847, 0.000985221674876847, 0.000985221674876847, 0.000985221674876847, 0.000985221674876847, 0.000985221674876847, 0.000985221674876847, 0.000985221674876847, 0.000985221674876847, 0.000985221674876847, 0.000985221674876847, 0.000985221674876847, 0.0032258064516129, 0.000985221674876847, 0.000985221674876847, 0.000985221674876847, 0.000985221674876847, 0.000985221674876847, 0.000985221674876847, 0.000985221674876847, 0.000985221674876847, 0.000985221674876847, 0.000985221674876847, 0.000985221674876847, 0.000985221674876847, 0.000985221674876847, 0.000985221674876847, 0.0032258064516129, 0.000985221674876847, 0.0032258064516129, 0.000985221674876847, 0.000985221674876847, 0.0032258064516129, 0.000985221674876847, 0.000985221674876847, 0.000985221674876847, 0.000985221674876847, 0.000985221674876847, 0.000985221674876847, 0.0032258064516129, 0.000985221674876847, 0.000985221674876847, 0.0032258064516129, 0.000985221674876847, 0.000985221674876847, 0.0032258064516129, 0.0032258064516129, 0.000985221674876847, 0.000985221674876847, 0.0032258064516129, 0.0032258064516129, 0.0032258064516129, 0.0032258064516129, 0.0032258064516129, 0.000985221674876847, 0.000985221674876847, 0.000985221674876847, 0.000985221674876847, 0.000985221674876847, 0.0032258064516129, 0.000985221674876847, 0.000985221674876847, 0.000985221674876847, 0.000985221674876847, 0.000985221674876847, 0.0032258064516129, 0.0032258064516129, 0.0032258064516129, 0.0032258064516129, 0.0032258064516129, 0.0032258064516129, 0.0032258064516129, 0.0032258064516129, 0.0032258064516129, 0.0032258064516129, 0.0032258064516129, 0.000985221674876847, 0.0032258064516129, 0.0032258064516129, 0.000985221674876847, 0.000985221674876847, 0.000985221674876847, 0.000985221674876847, 0.000985221674876847, 0.000985221674876847, 0.000985221674876847, 0.000985221674876847, 0.000985221674876847, 0.000985221674876847, 0.000985221674876847, 0.000985221674876847, 0.000985221674876847, 0.000985221674876847, 0.000985221674876847, 0.000985221674876847, 0.000985221674876847, 0.000985221674876847, 0.000985221674876847, 0.0032258064516129, 0.0032258064516129, 0.000985221674876847, 0.000985221674876847, 0.0032258064516129, 0.000985221674876847, 0.000985221674876847, 0.000985221674876847, 0.000985221674876847, 0.000985221674876847, 0.000985221674876847, 0.000985221674876847, 0.000985221674876847, 0.0032258064516129, 0.000985221674876847, 0.000985221674876847, 0.000985221674876847, 0.0032258064516129, 0.000985221674876847, 0.0032258064516129, 0.0032258064516129, 0.0032258064516129, 0.0032258064516129, 0.0032258064516129, 0.000985221674876847, 0.0032258064516129, 0.000985221674876847, 0.000985221674876847, 0.000985221674876847, 0.0032258064516129, 0.0032258064516129, 0.0032258064516129, 0.0032258064516129, 0.0032258064516129, 0.0032258064516129, 0.000985221674876847, 0.0032258064516129, 0.000985221674876847, 0.000985221674876847, 0.000985221674876847, 0.000985221674876847, 0.000985221674876847, 0.000985221674876847, 0.0032258064516129, 0.000985221674876847, 0.0032258064516129, 0.000985221674876847, 0.0032258064516129, 0.000985221674876847, 0.0032258064516129, 0.000985221674876847, 0.000985221674876847, 0.000985221674876847, 0.0032258064516129, 0.000985221674876847, 0.000985221674876847, 0.0032258064516129, 0.0032258064516129, 0.0032258064516129, 0.0032258064516129, 0.0032258064516129, 0.0032258064516129, 0.0032258064516129, 0.0032258064516129, 0.0032258064516129, 0.0032258064516129, 0.0032258064516129, 0.0032258064516129, 0.0032258064516129, 0.0032258064516129, 0.0032258064516129, 0.000985221674876847, 0.000985221674876847, 0.0032258064516129, 0.0032258064516129, 0.0032258064516129, 0.0032258064516129, 0.0032258064516129, 0.0032258064516129, 0.0032258064516129, 0.0032258064516129, 0.0032258064516129, 0.0032258064516129, 0.0032258064516129, 0.0032258064516129, 0.0032258064516129, 0.000985221674876847, 0.000985221674876847, 0.000985221674876847, 0.000985221674876847, 0.000985221674876847, 0.000985221674876847, 0.0032258064516129, 0.000985221674876847, 0.000985221674876847, 0.0032258064516129, 0.0032258064516129, 0.0032258064516129, 0.000985221674876847, 0.000985221674876847, 0.000985221674876847, 0.000985221674876847, 0.000985221674876847, 0.000985221674876847, 0.000985221674876847, 0.000985221674876847, 0.0032258064516129, 0.000985221674876847, 0.000985221674876847, 0.000985221674876847, 0.000985221674876847, 0.000985221674876847, 0.000985221674876847, 0.000985221674876847, 0.000985221674876847, 0.000985221674876847, 0.000985221674876847, 0.000985221674876847, 0.000985221674876847, 0.0032258064516129, 0.000985221674876847, 0.000985221674876847, 0.000985221674876847, 0.000985221674876847, 0.000985221674876847, 0.000985221674876847, 0.000985221674876847, 0.0032258064516129, 0.000985221674876847, 0.000985221674876847, 0.000985221674876847, 0.0032258064516129, 0.0032258064516129, 0.0032258064516129, 0.0032258064516129, 0.0032258064516129, 0.0032258064516129, 0.0032258064516129, 0.0032258064516129, 0.0032258064516129, 0.0032258064516129, 0.0032258064516129, 0.000985221674876847, 0.000985221674876847, 0.000985221674876847, 0.000985221674876847, 0.000985221674876847, 0.000985221674876847, 0.000985221674876847, 0.000985221674876847, 0.000985221674876847, 0.0032258064516129, 0.000985221674876847, 0.000985221674876847, 0.000985221674876847, 0.000985221674876847, 0.0032258064516129, 0.000985221674876847, 0.000985221674876847, 0.000985221674876847, 0.000985221674876847, 0.0032258064516129, 0.000985221674876847, 0.000985221674876847, 0.000985221674876847, 0.000985221674876847, 0.0032258064516129, 0.0032258064516129, 0.000985221674876847, 0.0032258064516129, 0.0032258064516129, 0.0032258064516129, 0.0032258064516129, 0.000985221674876847, 0.000985221674876847, 0.0032258064516129, 0.0032258064516129, 0.0032258064516129, 0.0032258064516129, 0.000985221674876847, 0.000985221674876847, 0.0032258064516129, 0.0032258064516129, 0.0032258064516129, 0.0032258064516129, 0.0032258064516129, 0.000985221674876847, 0.0032258064516129, 0.0032258064516129, 0.0032258064516129, 0.000985221674876847, 0.000985221674876847, 0.000985221674876847, 0.000985221674876847, 0.0032258064516129, 0.0032258064516129, 0.0032258064516129, 0.000985221674876847, 0.0032258064516129, 0.000985221674876847, 0.0032258064516129, 0.0032258064516129, 0.000985221674876847, 0.000985221674876847, 0.0032258064516129, 0.0032258064516129, 0.0032258064516129, 0.000985221674876847, 0.000985221674876847, 0.000985221674876847, 0.0032258064516129, 0.000985221674876847, 0.0032258064516129, 0.0032258064516129, 0.000985221674876847, 0.000985221674876847, 0.000985221674876847, 0.000985221674876847, 0.000985221674876847, 0.000985221674876847, 0.000985221674876847, 0.0032258064516129, 0.0032258064516129, 0.0032258064516129, 0.000985221674876847, 0.0032258064516129, 0.0032258064516129, 0.0032258064516129, 0.0032258064516129, 0.0032258064516129, 0.0032258064516129, 0.0032258064516129, 0.0032258064516129, 0.0032258064516129, 0.0032258064516129, 0.000985221674876847, 0.0032258064516129, 0.0032258064516129, 0.0032258064516129, 0.0032258064516129, 0.0032258064516129, 0.0032258064516129, 0.0032258064516129, 0.0032258064516129, 0.0032258064516129, 0.000985221674876847, 0.000985221674876847, 0.000985221674876847, 0.0032258064516129, 0.0032258064516129, 0.0032258064516129, 0.0032258064516129, 0.0032258064516129, 0.0032258064516129, 0.0032258064516129, 0.0032258064516129, 0.0032258064516129, 0.0032258064516129, 0.0032258064516129, 0.0032258064516129, 0.0032258064516129, 0.0032258064516129, 0.0032258064516129, 0.000985221674876847, 0.0032258064516129, 0.000985221674876847, 0.0032258064516129, 0.000985221674876847, 0.000985221674876847, 0.000985221674876847, 0.000985221674876847, 0.000985221674876847, 0.000985221674876847, 0.000985221674876847, 0.000985221674876847, 0.000985221674876847, 0.000985221674876847, 0.000985221674876847, 0.000985221674876847, 0.000985221674876847, 0.000985221674876847, 0.000985221674876847, 0.000985221674876847, 0.000985221674876847, 0.000985221674876847, 0.000985221674876847, 0.000985221674876847, 0.000985221674876847, 0.000985221674876847, 0.000985221674876847, 0.000985221674876847, 0.000985221674876847, 0.000985221674876847, 0.000985221674876847, 0.000985221674876847, 0.000985221674876847, 0.0032258064516129, 0.000985221674876847, 0.000985221674876847, 0.000985221674876847, 0.000985221674876847, 0.000985221674876847, 0.0032258064516129, 0.000985221674876847, 0.0032258064516129, 0.000985221674876847, 0.000985221674876847, 0.000985221674876847, 0.000985221674876847, 0.000985221674876847, 0.000985221674876847, 0.000985221674876847, 0.000985221674876847, 0.000985221674876847, 0.0032258064516129, 0.000985221674876847, 0.000985221674876847, 0.0032258064516129, 0.000985221674876847, 0.000985221674876847, 0.000985221674876847, 0.0032258064516129, 0.000985221674876847, 0.000985221674876847, 0.000985221674876847, 0.000985221674876847, 0.0032258064516129, 0.000985221674876847, 0.000985221674876847, 0.000985221674876847, 0.000985221674876847, 0.000985221674876847, 0.000985221674876847, 0.000985221674876847, 0.000985221674876847, 0.000985221674876847, 0.000985221674876847, 0.000985221674876847, 0.000985221674876847, 0.000985221674876847, 0.000985221674876847, 0.000985221674876847, 0.000985221674876847, 0.000985221674876847, 0.000985221674876847, 0.000985221674876847, 0.000985221674876847, 0.000985221674876847, 0.000985221674876847, 0.000985221674876847, 0.000985221674876847, 0.000985221674876847, 0.000985221674876847, 0.000985221674876847, 0.000985221674876847, 0.000985221674876847, 0.000985221674876847, 0.000985221674876847, 0.000985221674876847, 0.000985221674876847, 0.000985221674876847, 0.000985221674876847, 0.000985221674876847, 0.000985221674876847, 0.000985221674876847, 0.000985221674876847, 0.000985221674876847, 0.000985221674876847, 0.000985221674876847, 0.000985221674876847, 0.000985221674876847, 0.000985221674876847, 0.000985221674876847, 0.000985221674876847, 0.000985221674876847, 0.000985221674876847, 0.000985221674876847, 0.000985221674876847, 0.000985221674876847, 0.000985221674876847, 0.000985221674876847, 0.000985221674876847, 0.000985221674876847, 0.000985221674876847, 0.000985221674876847, 0.000985221674876847, 0.000985221674876847, 0.000985221674876847, 0.000985221674876847, 0.000985221674876847, 0.000985221674876847, 0.000985221674876847, 0.000985221674876847, 0.000985221674876847, 0.000985221674876847, 0.000985221674876847, 0.000985221674876847, 0.000985221674876847, 0.000985221674876847, 0.000985221674876847, 0.000985221674876847, 0.000985221674876847, 0.000985221674876847, 0.000985221674876847, 0.000985221674876847, 0.000985221674876847, 0.0032258064516129, 0.000985221674876847, 0.000985221674876847, 0.000985221674876847, 0.000985221674876847, 0.000985221674876847, 0.000985221674876847, 0.000985221674876847, 0.000985221674876847, 0.000985221674876847, 0.000985221674876847, 0.0032258064516129]\n"
     ]
    }
   ],
   "source": [
    "print(weight1_lst)"
   ]
  },
  {
   "cell_type": "code",
   "execution_count": 8,
   "metadata": {
    "collapsed": true
   },
   "outputs": [
    {
     "name": "stdout",
     "output_type": "stream",
     "text": [
      "[0.000738916256157635, 0.000738916256157635, 0.000738916256157635, 0.000738916256157635, 0.000738916256157635, 0.000738916256157635, 0.000738916256157635, 0.000738916256157635, 0.000738916256157635, 0.000738916256157635, 0.000738916256157635, 0.000738916256157635, 0.000738916256157635, 0.000738916256157635, 0.000738916256157635, 0.000738916256157635, 0.000738916256157635, 0.000738916256157635, 0.000738916256157635, 0.000738916256157635, 0.000738916256157635, 0.000738916256157635, 0.000738916256157635, 0.000738916256157635, 0.000738916256157635, 0.000738916256157635, 0.000738916256157635, 0.000738916256157635, 0.000738916256157635, 0.000738916256157635, 0.000738916256157635, 0.000738916256157635, 0.000738916256157635, 0.000738916256157635, 0.000738916256157635, 0.000738916256157635, 0.000738916256157635, 0.000738916256157635, 0.000738916256157635, 0.000738916256157635, 0.000738916256157635, 0.000738916256157635, 0.00376344086021505, 0.000738916256157635, 0.00376344086021505, 0.00376344086021505, 0.000738916256157635, 0.000738916256157635, 0.000738916256157635, 0.00376344086021505, 0.000738916256157635, 0.000738916256157635, 0.000738916256157635, 0.000738916256157635, 0.00376344086021505, 0.000738916256157635, 0.000738916256157635, 0.000738916256157635, 0.000738916256157635, 0.000738916256157635, 0.000738916256157635, 0.000738916256157635, 0.000738916256157635, 0.000738916256157635, 0.000738916256157635, 0.000738916256157635, 0.000738916256157635, 0.000738916256157635, 0.000738916256157635, 0.000738916256157635, 0.00376344086021505, 0.000738916256157635, 0.000738916256157635, 0.00376344086021505, 0.00376344086021505, 0.00376344086021505, 0.000738916256157635, 0.000738916256157635, 0.000738916256157635, 0.000738916256157635, 0.000738916256157635, 0.000738916256157635, 0.000738916256157635, 0.000738916256157635, 0.000738916256157635, 0.000738916256157635, 0.000738916256157635, 0.000738916256157635, 0.00376344086021505, 0.000738916256157635, 0.000738916256157635, 0.000738916256157635, 0.000738916256157635, 0.000738916256157635, 0.000738916256157635, 0.000738916256157635, 0.000738916256157635, 0.000738916256157635, 0.000738916256157635, 0.000738916256157635, 0.000738916256157635, 0.000738916256157635, 0.000738916256157635, 0.00376344086021505, 0.000738916256157635, 0.00376344086021505, 0.000738916256157635, 0.000738916256157635, 0.00376344086021505, 0.000738916256157635, 0.000738916256157635, 0.000738916256157635, 0.000738916256157635, 0.000738916256157635, 0.000738916256157635, 0.00376344086021505, 0.000738916256157635, 0.000738916256157635, 0.00376344086021505, 0.000738916256157635, 0.000738916256157635, 0.00376344086021505, 0.00376344086021505, 0.000738916256157635, 0.000738916256157635, 0.00376344086021505, 0.00376344086021505, 0.00376344086021505, 0.00376344086021505, 0.00376344086021505, 0.000738916256157635, 0.000738916256157635, 0.000738916256157635, 0.000738916256157635, 0.000738916256157635, 0.00376344086021505, 0.000738916256157635, 0.000738916256157635, 0.000738916256157635, 0.000738916256157635, 0.000738916256157635, 0.00376344086021505, 0.00376344086021505, 0.00376344086021505, 0.00376344086021505, 0.00376344086021505, 0.00376344086021505, 0.00376344086021505, 0.00376344086021505, 0.00376344086021505, 0.00376344086021505, 0.00376344086021505, 0.000738916256157635, 0.00376344086021505, 0.00376344086021505, 0.000738916256157635, 0.000738916256157635, 0.000738916256157635, 0.000738916256157635, 0.000738916256157635, 0.000738916256157635, 0.000738916256157635, 0.000738916256157635, 0.000738916256157635, 0.000738916256157635, 0.000738916256157635, 0.000738916256157635, 0.000738916256157635, 0.000738916256157635, 0.000738916256157635, 0.000738916256157635, 0.000738916256157635, 0.000738916256157635, 0.000738916256157635, 0.00376344086021505, 0.00376344086021505, 0.000738916256157635, 0.000738916256157635, 0.00376344086021505, 0.000738916256157635, 0.000738916256157635, 0.000738916256157635, 0.000738916256157635, 0.000738916256157635, 0.000738916256157635, 0.000738916256157635, 0.000738916256157635, 0.00376344086021505, 0.000738916256157635, 0.000738916256157635, 0.000738916256157635, 0.00376344086021505, 0.000738916256157635, 0.00376344086021505, 0.00376344086021505, 0.00376344086021505, 0.00376344086021505, 0.00376344086021505, 0.000738916256157635, 0.00376344086021505, 0.000738916256157635, 0.000738916256157635, 0.000738916256157635, 0.00376344086021505, 0.00376344086021505, 0.00376344086021505, 0.00376344086021505, 0.00376344086021505, 0.00376344086021505, 0.000738916256157635, 0.00376344086021505, 0.000738916256157635, 0.000738916256157635, 0.000738916256157635, 0.000738916256157635, 0.000738916256157635, 0.000738916256157635, 0.00376344086021505, 0.000738916256157635, 0.00376344086021505, 0.000738916256157635, 0.00376344086021505, 0.000738916256157635, 0.00376344086021505, 0.000738916256157635, 0.000738916256157635, 0.000738916256157635, 0.00376344086021505, 0.000738916256157635, 0.000738916256157635, 0.00376344086021505, 0.00376344086021505, 0.00376344086021505, 0.00376344086021505, 0.00376344086021505, 0.00376344086021505, 0.00376344086021505, 0.00376344086021505, 0.00376344086021505, 0.00376344086021505, 0.00376344086021505, 0.00376344086021505, 0.00376344086021505, 0.00376344086021505, 0.00376344086021505, 0.000738916256157635, 0.000738916256157635, 0.00376344086021505, 0.00376344086021505, 0.00376344086021505, 0.00376344086021505, 0.00376344086021505, 0.00376344086021505, 0.00376344086021505, 0.00376344086021505, 0.00376344086021505, 0.00376344086021505, 0.00376344086021505, 0.00376344086021505, 0.00376344086021505, 0.000738916256157635, 0.000738916256157635, 0.000738916256157635, 0.000738916256157635, 0.000738916256157635, 0.000738916256157635, 0.00376344086021505, 0.000738916256157635, 0.000738916256157635, 0.00376344086021505, 0.00376344086021505, 0.00376344086021505, 0.000738916256157635, 0.000738916256157635, 0.000738916256157635, 0.000738916256157635, 0.000738916256157635, 0.000738916256157635, 0.000738916256157635, 0.000738916256157635, 0.00376344086021505, 0.000738916256157635, 0.000738916256157635, 0.000738916256157635, 0.000738916256157635, 0.000738916256157635, 0.000738916256157635, 0.000738916256157635, 0.000738916256157635, 0.000738916256157635, 0.000738916256157635, 0.000738916256157635, 0.000738916256157635, 0.00376344086021505, 0.000738916256157635, 0.000738916256157635, 0.000738916256157635, 0.000738916256157635, 0.000738916256157635, 0.000738916256157635, 0.000738916256157635, 0.00376344086021505, 0.000738916256157635, 0.000738916256157635, 0.000738916256157635, 0.00376344086021505, 0.00376344086021505, 0.00376344086021505, 0.00376344086021505, 0.00376344086021505, 0.00376344086021505, 0.00376344086021505, 0.00376344086021505, 0.00376344086021505, 0.00376344086021505, 0.00376344086021505, 0.000738916256157635, 0.000738916256157635, 0.000738916256157635, 0.000738916256157635, 0.000738916256157635, 0.000738916256157635, 0.000738916256157635, 0.000738916256157635, 0.000738916256157635, 0.00376344086021505, 0.000738916256157635, 0.000738916256157635, 0.000738916256157635, 0.000738916256157635, 0.00376344086021505, 0.000738916256157635, 0.000738916256157635, 0.000738916256157635, 0.000738916256157635, 0.00376344086021505, 0.000738916256157635, 0.000738916256157635, 0.000738916256157635, 0.000738916256157635, 0.00376344086021505, 0.00376344086021505, 0.000738916256157635, 0.00376344086021505, 0.00376344086021505, 0.00376344086021505, 0.00376344086021505, 0.000738916256157635, 0.000738916256157635, 0.00376344086021505, 0.00376344086021505, 0.00376344086021505, 0.00376344086021505, 0.000738916256157635, 0.000738916256157635, 0.00376344086021505, 0.00376344086021505, 0.00376344086021505, 0.00376344086021505, 0.00376344086021505, 0.000738916256157635, 0.00376344086021505, 0.00376344086021505, 0.00376344086021505, 0.000738916256157635, 0.000738916256157635, 0.000738916256157635, 0.000738916256157635, 0.00376344086021505, 0.00376344086021505, 0.00376344086021505, 0.000738916256157635, 0.00376344086021505, 0.000738916256157635, 0.00376344086021505, 0.00376344086021505, 0.000738916256157635, 0.000738916256157635, 0.00376344086021505, 0.00376344086021505, 0.00376344086021505, 0.000738916256157635, 0.000738916256157635, 0.000738916256157635, 0.00376344086021505, 0.000738916256157635, 0.00376344086021505, 0.00376344086021505, 0.000738916256157635, 0.000738916256157635, 0.000738916256157635, 0.000738916256157635, 0.000738916256157635, 0.000738916256157635, 0.000738916256157635, 0.00376344086021505, 0.00376344086021505, 0.00376344086021505, 0.000738916256157635, 0.00376344086021505, 0.00376344086021505, 0.00376344086021505, 0.00376344086021505, 0.00376344086021505, 0.00376344086021505, 0.00376344086021505, 0.00376344086021505, 0.00376344086021505, 0.00376344086021505, 0.000738916256157635, 0.00376344086021505, 0.00376344086021505, 0.00376344086021505, 0.00376344086021505, 0.00376344086021505, 0.00376344086021505, 0.00376344086021505, 0.00376344086021505, 0.00376344086021505, 0.000738916256157635, 0.000738916256157635, 0.000738916256157635, 0.00376344086021505, 0.00376344086021505, 0.00376344086021505, 0.00376344086021505, 0.00376344086021505, 0.00376344086021505, 0.00376344086021505, 0.00376344086021505, 0.00376344086021505, 0.00376344086021505, 0.00376344086021505, 0.00376344086021505, 0.00376344086021505, 0.00376344086021505, 0.00376344086021505, 0.000738916256157635, 0.00376344086021505, 0.000738916256157635, 0.00376344086021505, 0.000738916256157635, 0.000738916256157635, 0.000738916256157635, 0.000738916256157635, 0.000738916256157635, 0.000738916256157635, 0.000738916256157635, 0.000738916256157635, 0.000738916256157635, 0.000738916256157635, 0.000738916256157635, 0.000738916256157635, 0.000738916256157635, 0.000738916256157635, 0.000738916256157635, 0.000738916256157635, 0.000738916256157635, 0.000738916256157635, 0.000738916256157635, 0.000738916256157635, 0.000738916256157635, 0.000738916256157635, 0.000738916256157635, 0.000738916256157635, 0.000738916256157635, 0.000738916256157635, 0.000738916256157635, 0.000738916256157635, 0.000738916256157635, 0.00376344086021505, 0.000738916256157635, 0.000738916256157635, 0.000738916256157635, 0.000738916256157635, 0.000738916256157635, 0.00376344086021505, 0.000738916256157635, 0.00376344086021505, 0.000738916256157635, 0.000738916256157635, 0.000738916256157635, 0.000738916256157635, 0.000738916256157635, 0.000738916256157635, 0.000738916256157635, 0.000738916256157635, 0.000738916256157635, 0.00376344086021505, 0.000738916256157635, 0.000738916256157635, 0.00376344086021505, 0.000738916256157635, 0.000738916256157635, 0.000738916256157635, 0.00376344086021505, 0.000738916256157635, 0.000738916256157635, 0.000738916256157635, 0.000738916256157635, 0.00376344086021505, 0.000738916256157635, 0.000738916256157635, 0.000738916256157635, 0.000738916256157635, 0.000738916256157635, 0.000738916256157635, 0.000738916256157635, 0.000738916256157635, 0.000738916256157635, 0.000738916256157635, 0.000738916256157635, 0.000738916256157635, 0.000738916256157635, 0.000738916256157635, 0.000738916256157635, 0.000738916256157635, 0.000738916256157635, 0.000738916256157635, 0.000738916256157635, 0.000738916256157635, 0.000738916256157635, 0.000738916256157635, 0.000738916256157635, 0.000738916256157635, 0.000738916256157635, 0.000738916256157635, 0.000738916256157635, 0.000738916256157635, 0.000738916256157635, 0.000738916256157635, 0.000738916256157635, 0.000738916256157635, 0.000738916256157635, 0.000738916256157635, 0.000738916256157635, 0.000738916256157635, 0.000738916256157635, 0.000738916256157635, 0.000738916256157635, 0.000738916256157635, 0.000738916256157635, 0.000738916256157635, 0.000738916256157635, 0.000738916256157635, 0.000738916256157635, 0.000738916256157635, 0.000738916256157635, 0.000738916256157635, 0.000738916256157635, 0.000738916256157635, 0.000738916256157635, 0.000738916256157635, 0.000738916256157635, 0.000738916256157635, 0.000738916256157635, 0.000738916256157635, 0.000738916256157635, 0.000738916256157635, 0.000738916256157635, 0.000738916256157635, 0.000738916256157635, 0.000738916256157635, 0.000738916256157635, 0.000738916256157635, 0.000738916256157635, 0.000738916256157635, 0.000738916256157635, 0.000738916256157635, 0.000738916256157635, 0.000738916256157635, 0.000738916256157635, 0.000738916256157635, 0.000738916256157635, 0.000738916256157635, 0.000738916256157635, 0.000738916256157635, 0.000738916256157635, 0.000738916256157635, 0.000738916256157635, 0.00376344086021505, 0.000738916256157635, 0.000738916256157635, 0.000738916256157635, 0.000738916256157635, 0.000738916256157635, 0.000738916256157635, 0.000738916256157635, 0.000738916256157635, 0.000738916256157635, 0.000738916256157635, 0.00376344086021505]\n"
     ]
    }
   ],
   "source": [
    "print(weight2_lst)"
   ]
  },
  {
   "cell_type": "code",
   "execution_count": 9,
   "metadata": {
    "collapsed": true
   },
   "outputs": [
    {
     "name": "stdout",
     "output_type": "stream",
     "text": [
      "[0.000492610837438424, 0.000492610837438424, 0.000492610837438424, 0.000492610837438424, 0.000492610837438424, 0.000492610837438424, 0.000492610837438424, 0.000492610837438424, 0.000492610837438424, 0.000492610837438424, 0.000492610837438424, 0.000492610837438424, 0.000492610837438424, 0.000492610837438424, 0.000492610837438424, 0.000492610837438424, 0.000492610837438424, 0.000492610837438424, 0.000492610837438424, 0.000492610837438424, 0.000492610837438424, 0.000492610837438424, 0.000492610837438424, 0.000492610837438424, 0.000492610837438424, 0.000492610837438424, 0.000492610837438424, 0.000492610837438424, 0.000492610837438424, 0.000492610837438424, 0.000492610837438424, 0.000492610837438424, 0.000492610837438424, 0.000492610837438424, 0.000492610837438424, 0.000492610837438424, 0.000492610837438424, 0.000492610837438424, 0.000492610837438424, 0.000492610837438424, 0.000492610837438424, 0.000492610837438424, 0.0043010752688172, 0.000492610837438424, 0.0043010752688172, 0.0043010752688172, 0.000492610837438424, 0.000492610837438424, 0.000492610837438424, 0.0043010752688172, 0.000492610837438424, 0.000492610837438424, 0.000492610837438424, 0.000492610837438424, 0.0043010752688172, 0.000492610837438424, 0.000492610837438424, 0.000492610837438424, 0.000492610837438424, 0.000492610837438424, 0.000492610837438424, 0.000492610837438424, 0.000492610837438424, 0.000492610837438424, 0.000492610837438424, 0.000492610837438424, 0.000492610837438424, 0.000492610837438424, 0.000492610837438424, 0.000492610837438424, 0.0043010752688172, 0.000492610837438424, 0.000492610837438424, 0.0043010752688172, 0.0043010752688172, 0.0043010752688172, 0.000492610837438424, 0.000492610837438424, 0.000492610837438424, 0.000492610837438424, 0.000492610837438424, 0.000492610837438424, 0.000492610837438424, 0.000492610837438424, 0.000492610837438424, 0.000492610837438424, 0.000492610837438424, 0.000492610837438424, 0.0043010752688172, 0.000492610837438424, 0.000492610837438424, 0.000492610837438424, 0.000492610837438424, 0.000492610837438424, 0.000492610837438424, 0.000492610837438424, 0.000492610837438424, 0.000492610837438424, 0.000492610837438424, 0.000492610837438424, 0.000492610837438424, 0.000492610837438424, 0.000492610837438424, 0.0043010752688172, 0.000492610837438424, 0.0043010752688172, 0.000492610837438424, 0.000492610837438424, 0.0043010752688172, 0.000492610837438424, 0.000492610837438424, 0.000492610837438424, 0.000492610837438424, 0.000492610837438424, 0.000492610837438424, 0.0043010752688172, 0.000492610837438424, 0.000492610837438424, 0.0043010752688172, 0.000492610837438424, 0.000492610837438424, 0.0043010752688172, 0.0043010752688172, 0.000492610837438424, 0.000492610837438424, 0.0043010752688172, 0.0043010752688172, 0.0043010752688172, 0.0043010752688172, 0.0043010752688172, 0.000492610837438424, 0.000492610837438424, 0.000492610837438424, 0.000492610837438424, 0.000492610837438424, 0.0043010752688172, 0.000492610837438424, 0.000492610837438424, 0.000492610837438424, 0.000492610837438424, 0.000492610837438424, 0.0043010752688172, 0.0043010752688172, 0.0043010752688172, 0.0043010752688172, 0.0043010752688172, 0.0043010752688172, 0.0043010752688172, 0.0043010752688172, 0.0043010752688172, 0.0043010752688172, 0.0043010752688172, 0.000492610837438424, 0.0043010752688172, 0.0043010752688172, 0.000492610837438424, 0.000492610837438424, 0.000492610837438424, 0.000492610837438424, 0.000492610837438424, 0.000492610837438424, 0.000492610837438424, 0.000492610837438424, 0.000492610837438424, 0.000492610837438424, 0.000492610837438424, 0.000492610837438424, 0.000492610837438424, 0.000492610837438424, 0.000492610837438424, 0.000492610837438424, 0.000492610837438424, 0.000492610837438424, 0.000492610837438424, 0.0043010752688172, 0.0043010752688172, 0.000492610837438424, 0.000492610837438424, 0.0043010752688172, 0.000492610837438424, 0.000492610837438424, 0.000492610837438424, 0.000492610837438424, 0.000492610837438424, 0.000492610837438424, 0.000492610837438424, 0.000492610837438424, 0.0043010752688172, 0.000492610837438424, 0.000492610837438424, 0.000492610837438424, 0.0043010752688172, 0.000492610837438424, 0.0043010752688172, 0.0043010752688172, 0.0043010752688172, 0.0043010752688172, 0.0043010752688172, 0.000492610837438424, 0.0043010752688172, 0.000492610837438424, 0.000492610837438424, 0.000492610837438424, 0.0043010752688172, 0.0043010752688172, 0.0043010752688172, 0.0043010752688172, 0.0043010752688172, 0.0043010752688172, 0.000492610837438424, 0.0043010752688172, 0.000492610837438424, 0.000492610837438424, 0.000492610837438424, 0.000492610837438424, 0.000492610837438424, 0.000492610837438424, 0.0043010752688172, 0.000492610837438424, 0.0043010752688172, 0.000492610837438424, 0.0043010752688172, 0.000492610837438424, 0.0043010752688172, 0.000492610837438424, 0.000492610837438424, 0.000492610837438424, 0.0043010752688172, 0.000492610837438424, 0.000492610837438424, 0.0043010752688172, 0.0043010752688172, 0.0043010752688172, 0.0043010752688172, 0.0043010752688172, 0.0043010752688172, 0.0043010752688172, 0.0043010752688172, 0.0043010752688172, 0.0043010752688172, 0.0043010752688172, 0.0043010752688172, 0.0043010752688172, 0.0043010752688172, 0.0043010752688172, 0.000492610837438424, 0.000492610837438424, 0.0043010752688172, 0.0043010752688172, 0.0043010752688172, 0.0043010752688172, 0.0043010752688172, 0.0043010752688172, 0.0043010752688172, 0.0043010752688172, 0.0043010752688172, 0.0043010752688172, 0.0043010752688172, 0.0043010752688172, 0.0043010752688172, 0.000492610837438424, 0.000492610837438424, 0.000492610837438424, 0.000492610837438424, 0.000492610837438424, 0.000492610837438424, 0.0043010752688172, 0.000492610837438424, 0.000492610837438424, 0.0043010752688172, 0.0043010752688172, 0.0043010752688172, 0.000492610837438424, 0.000492610837438424, 0.000492610837438424, 0.000492610837438424, 0.000492610837438424, 0.000492610837438424, 0.000492610837438424, 0.000492610837438424, 0.0043010752688172, 0.000492610837438424, 0.000492610837438424, 0.000492610837438424, 0.000492610837438424, 0.000492610837438424, 0.000492610837438424, 0.000492610837438424, 0.000492610837438424, 0.000492610837438424, 0.000492610837438424, 0.000492610837438424, 0.000492610837438424, 0.0043010752688172, 0.000492610837438424, 0.000492610837438424, 0.000492610837438424, 0.000492610837438424, 0.000492610837438424, 0.000492610837438424, 0.000492610837438424, 0.0043010752688172, 0.000492610837438424, 0.000492610837438424, 0.000492610837438424, 0.0043010752688172, 0.0043010752688172, 0.0043010752688172, 0.0043010752688172, 0.0043010752688172, 0.0043010752688172, 0.0043010752688172, 0.0043010752688172, 0.0043010752688172, 0.0043010752688172, 0.0043010752688172, 0.000492610837438424, 0.000492610837438424, 0.000492610837438424, 0.000492610837438424, 0.000492610837438424, 0.000492610837438424, 0.000492610837438424, 0.000492610837438424, 0.000492610837438424, 0.0043010752688172, 0.000492610837438424, 0.000492610837438424, 0.000492610837438424, 0.000492610837438424, 0.0043010752688172, 0.000492610837438424, 0.000492610837438424, 0.000492610837438424, 0.000492610837438424, 0.0043010752688172, 0.000492610837438424, 0.000492610837438424, 0.000492610837438424, 0.000492610837438424, 0.0043010752688172, 0.0043010752688172, 0.000492610837438424, 0.0043010752688172, 0.0043010752688172, 0.0043010752688172, 0.0043010752688172, 0.000492610837438424, 0.000492610837438424, 0.0043010752688172, 0.0043010752688172, 0.0043010752688172, 0.0043010752688172, 0.000492610837438424, 0.000492610837438424, 0.0043010752688172, 0.0043010752688172, 0.0043010752688172, 0.0043010752688172, 0.0043010752688172, 0.000492610837438424, 0.0043010752688172, 0.0043010752688172, 0.0043010752688172, 0.000492610837438424, 0.000492610837438424, 0.000492610837438424, 0.000492610837438424, 0.0043010752688172, 0.0043010752688172, 0.0043010752688172, 0.000492610837438424, 0.0043010752688172, 0.000492610837438424, 0.0043010752688172, 0.0043010752688172, 0.000492610837438424, 0.000492610837438424, 0.0043010752688172, 0.0043010752688172, 0.0043010752688172, 0.000492610837438424, 0.000492610837438424, 0.000492610837438424, 0.0043010752688172, 0.000492610837438424, 0.0043010752688172, 0.0043010752688172, 0.000492610837438424, 0.000492610837438424, 0.000492610837438424, 0.000492610837438424, 0.000492610837438424, 0.000492610837438424, 0.000492610837438424, 0.0043010752688172, 0.0043010752688172, 0.0043010752688172, 0.000492610837438424, 0.0043010752688172, 0.0043010752688172, 0.0043010752688172, 0.0043010752688172, 0.0043010752688172, 0.0043010752688172, 0.0043010752688172, 0.0043010752688172, 0.0043010752688172, 0.0043010752688172, 0.000492610837438424, 0.0043010752688172, 0.0043010752688172, 0.0043010752688172, 0.0043010752688172, 0.0043010752688172, 0.0043010752688172, 0.0043010752688172, 0.0043010752688172, 0.0043010752688172, 0.000492610837438424, 0.000492610837438424, 0.000492610837438424, 0.0043010752688172, 0.0043010752688172, 0.0043010752688172, 0.0043010752688172, 0.0043010752688172, 0.0043010752688172, 0.0043010752688172, 0.0043010752688172, 0.0043010752688172, 0.0043010752688172, 0.0043010752688172, 0.0043010752688172, 0.0043010752688172, 0.0043010752688172, 0.0043010752688172, 0.000492610837438424, 0.0043010752688172, 0.000492610837438424, 0.0043010752688172, 0.000492610837438424, 0.000492610837438424, 0.000492610837438424, 0.000492610837438424, 0.000492610837438424, 0.000492610837438424, 0.000492610837438424, 0.000492610837438424, 0.000492610837438424, 0.000492610837438424, 0.000492610837438424, 0.000492610837438424, 0.000492610837438424, 0.000492610837438424, 0.000492610837438424, 0.000492610837438424, 0.000492610837438424, 0.000492610837438424, 0.000492610837438424, 0.000492610837438424, 0.000492610837438424, 0.000492610837438424, 0.000492610837438424, 0.000492610837438424, 0.000492610837438424, 0.000492610837438424, 0.000492610837438424, 0.000492610837438424, 0.000492610837438424, 0.0043010752688172, 0.000492610837438424, 0.000492610837438424, 0.000492610837438424, 0.000492610837438424, 0.000492610837438424, 0.0043010752688172, 0.000492610837438424, 0.0043010752688172, 0.000492610837438424, 0.000492610837438424, 0.000492610837438424, 0.000492610837438424, 0.000492610837438424, 0.000492610837438424, 0.000492610837438424, 0.000492610837438424, 0.000492610837438424, 0.0043010752688172, 0.000492610837438424, 0.000492610837438424, 0.0043010752688172, 0.000492610837438424, 0.000492610837438424, 0.000492610837438424, 0.0043010752688172, 0.000492610837438424, 0.000492610837438424, 0.000492610837438424, 0.000492610837438424, 0.0043010752688172, 0.000492610837438424, 0.000492610837438424, 0.000492610837438424, 0.000492610837438424, 0.000492610837438424, 0.000492610837438424, 0.000492610837438424, 0.000492610837438424, 0.000492610837438424, 0.000492610837438424, 0.000492610837438424, 0.000492610837438424, 0.000492610837438424, 0.000492610837438424, 0.000492610837438424, 0.000492610837438424, 0.000492610837438424, 0.000492610837438424, 0.000492610837438424, 0.000492610837438424, 0.000492610837438424, 0.000492610837438424, 0.000492610837438424, 0.000492610837438424, 0.000492610837438424, 0.000492610837438424, 0.000492610837438424, 0.000492610837438424, 0.000492610837438424, 0.000492610837438424, 0.000492610837438424, 0.000492610837438424, 0.000492610837438424, 0.000492610837438424, 0.000492610837438424, 0.000492610837438424, 0.000492610837438424, 0.000492610837438424, 0.000492610837438424, 0.000492610837438424, 0.000492610837438424, 0.000492610837438424, 0.000492610837438424, 0.000492610837438424, 0.000492610837438424, 0.000492610837438424, 0.000492610837438424, 0.000492610837438424, 0.000492610837438424, 0.000492610837438424, 0.000492610837438424, 0.000492610837438424, 0.000492610837438424, 0.000492610837438424, 0.000492610837438424, 0.000492610837438424, 0.000492610837438424, 0.000492610837438424, 0.000492610837438424, 0.000492610837438424, 0.000492610837438424, 0.000492610837438424, 0.000492610837438424, 0.000492610837438424, 0.000492610837438424, 0.000492610837438424, 0.000492610837438424, 0.000492610837438424, 0.000492610837438424, 0.000492610837438424, 0.000492610837438424, 0.000492610837438424, 0.000492610837438424, 0.000492610837438424, 0.000492610837438424, 0.000492610837438424, 0.000492610837438424, 0.000492610837438424, 0.000492610837438424, 0.0043010752688172, 0.000492610837438424, 0.000492610837438424, 0.000492610837438424, 0.000492610837438424, 0.000492610837438424, 0.000492610837438424, 0.000492610837438424, 0.000492610837438424, 0.000492610837438424, 0.000492610837438424, 0.0043010752688172]\n"
     ]
    }
   ],
   "source": [
    "print(weight3_lst)"
   ]
  },
  {
   "cell_type": "code",
   "execution_count": 10,
   "metadata": {
    "collapsed": true
   },
   "outputs": [
    {
     "name": "stdout",
     "output_type": "stream",
     "text": [
      "[0.000246305418719212, 0.000246305418719212, 0.000246305418719212, 0.000246305418719212, 0.000246305418719212, 0.000246305418719212, 0.000246305418719212, 0.000246305418719212, 0.000246305418719212, 0.000246305418719212, 0.000246305418719212, 0.000246305418719212, 0.000246305418719212, 0.000246305418719212, 0.000246305418719212, 0.000246305418719212, 0.000246305418719212, 0.000246305418719212, 0.000246305418719212, 0.000246305418719212, 0.000246305418719212, 0.000246305418719212, 0.000246305418719212, 0.000246305418719212, 0.000246305418719212, 0.000246305418719212, 0.000246305418719212, 0.000246305418719212, 0.000246305418719212, 0.000246305418719212, 0.000246305418719212, 0.000246305418719212, 0.000246305418719212, 0.000246305418719212, 0.000246305418719212, 0.000246305418719212, 0.000246305418719212, 0.000246305418719212, 0.000246305418719212, 0.000246305418719212, 0.000246305418719212, 0.000246305418719212, 0.00483870967741936, 0.000246305418719212, 0.00483870967741936, 0.00483870967741936, 0.000246305418719212, 0.000246305418719212, 0.000246305418719212, 0.00483870967741936, 0.000246305418719212, 0.000246305418719212, 0.000246305418719212, 0.000246305418719212, 0.00483870967741936, 0.000246305418719212, 0.000246305418719212, 0.000246305418719212, 0.000246305418719212, 0.000246305418719212, 0.000246305418719212, 0.000246305418719212, 0.000246305418719212, 0.000246305418719212, 0.000246305418719212, 0.000246305418719212, 0.000246305418719212, 0.000246305418719212, 0.000246305418719212, 0.000246305418719212, 0.00483870967741936, 0.000246305418719212, 0.000246305418719212, 0.00483870967741936, 0.00483870967741936, 0.00483870967741936, 0.000246305418719212, 0.000246305418719212, 0.000246305418719212, 0.000246305418719212, 0.000246305418719212, 0.000246305418719212, 0.000246305418719212, 0.000246305418719212, 0.000246305418719212, 0.000246305418719212, 0.000246305418719212, 0.000246305418719212, 0.00483870967741936, 0.000246305418719212, 0.000246305418719212, 0.000246305418719212, 0.000246305418719212, 0.000246305418719212, 0.000246305418719212, 0.000246305418719212, 0.000246305418719212, 0.000246305418719212, 0.000246305418719212, 0.000246305418719212, 0.000246305418719212, 0.000246305418719212, 0.000246305418719212, 0.00483870967741936, 0.000246305418719212, 0.00483870967741936, 0.000246305418719212, 0.000246305418719212, 0.00483870967741936, 0.000246305418719212, 0.000246305418719212, 0.000246305418719212, 0.000246305418719212, 0.000246305418719212, 0.000246305418719212, 0.00483870967741936, 0.000246305418719212, 0.000246305418719212, 0.00483870967741936, 0.000246305418719212, 0.000246305418719212, 0.00483870967741936, 0.00483870967741936, 0.000246305418719212, 0.000246305418719212, 0.00483870967741936, 0.00483870967741936, 0.00483870967741936, 0.00483870967741936, 0.00483870967741936, 0.000246305418719212, 0.000246305418719212, 0.000246305418719212, 0.000246305418719212, 0.000246305418719212, 0.00483870967741936, 0.000246305418719212, 0.000246305418719212, 0.000246305418719212, 0.000246305418719212, 0.000246305418719212, 0.00483870967741936, 0.00483870967741936, 0.00483870967741936, 0.00483870967741936, 0.00483870967741936, 0.00483870967741936, 0.00483870967741936, 0.00483870967741936, 0.00483870967741936, 0.00483870967741936, 0.00483870967741936, 0.000246305418719212, 0.00483870967741936, 0.00483870967741936, 0.000246305418719212, 0.000246305418719212, 0.000246305418719212, 0.000246305418719212, 0.000246305418719212, 0.000246305418719212, 0.000246305418719212, 0.000246305418719212, 0.000246305418719212, 0.000246305418719212, 0.000246305418719212, 0.000246305418719212, 0.000246305418719212, 0.000246305418719212, 0.000246305418719212, 0.000246305418719212, 0.000246305418719212, 0.000246305418719212, 0.000246305418719212, 0.00483870967741936, 0.00483870967741936, 0.000246305418719212, 0.000246305418719212, 0.00483870967741936, 0.000246305418719212, 0.000246305418719212, 0.000246305418719212, 0.000246305418719212, 0.000246305418719212, 0.000246305418719212, 0.000246305418719212, 0.000246305418719212, 0.00483870967741936, 0.000246305418719212, 0.000246305418719212, 0.000246305418719212, 0.00483870967741936, 0.000246305418719212, 0.00483870967741936, 0.00483870967741936, 0.00483870967741936, 0.00483870967741936, 0.00483870967741936, 0.000246305418719212, 0.00483870967741936, 0.000246305418719212, 0.000246305418719212, 0.000246305418719212, 0.00483870967741936, 0.00483870967741936, 0.00483870967741936, 0.00483870967741936, 0.00483870967741936, 0.00483870967741936, 0.000246305418719212, 0.00483870967741936, 0.000246305418719212, 0.000246305418719212, 0.000246305418719212, 0.000246305418719212, 0.000246305418719212, 0.000246305418719212, 0.00483870967741936, 0.000246305418719212, 0.00483870967741936, 0.000246305418719212, 0.00483870967741936, 0.000246305418719212, 0.00483870967741936, 0.000246305418719212, 0.000246305418719212, 0.000246305418719212, 0.00483870967741936, 0.000246305418719212, 0.000246305418719212, 0.00483870967741936, 0.00483870967741936, 0.00483870967741936, 0.00483870967741936, 0.00483870967741936, 0.00483870967741936, 0.00483870967741936, 0.00483870967741936, 0.00483870967741936, 0.00483870967741936, 0.00483870967741936, 0.00483870967741936, 0.00483870967741936, 0.00483870967741936, 0.00483870967741936, 0.000246305418719212, 0.000246305418719212, 0.00483870967741936, 0.00483870967741936, 0.00483870967741936, 0.00483870967741936, 0.00483870967741936, 0.00483870967741936, 0.00483870967741936, 0.00483870967741936, 0.00483870967741936, 0.00483870967741936, 0.00483870967741936, 0.00483870967741936, 0.00483870967741936, 0.000246305418719212, 0.000246305418719212, 0.000246305418719212, 0.000246305418719212, 0.000246305418719212, 0.000246305418719212, 0.00483870967741936, 0.000246305418719212, 0.000246305418719212, 0.00483870967741936, 0.00483870967741936, 0.00483870967741936, 0.000246305418719212, 0.000246305418719212, 0.000246305418719212, 0.000246305418719212, 0.000246305418719212, 0.000246305418719212, 0.000246305418719212, 0.000246305418719212, 0.00483870967741936, 0.000246305418719212, 0.000246305418719212, 0.000246305418719212, 0.000246305418719212, 0.000246305418719212, 0.000246305418719212, 0.000246305418719212, 0.000246305418719212, 0.000246305418719212, 0.000246305418719212, 0.000246305418719212, 0.000246305418719212, 0.00483870967741936, 0.000246305418719212, 0.000246305418719212, 0.000246305418719212, 0.000246305418719212, 0.000246305418719212, 0.000246305418719212, 0.000246305418719212, 0.00483870967741936, 0.000246305418719212, 0.000246305418719212, 0.000246305418719212, 0.00483870967741936, 0.00483870967741936, 0.00483870967741936, 0.00483870967741936, 0.00483870967741936, 0.00483870967741936, 0.00483870967741936, 0.00483870967741936, 0.00483870967741936, 0.00483870967741936, 0.00483870967741936, 0.000246305418719212, 0.000246305418719212, 0.000246305418719212, 0.000246305418719212, 0.000246305418719212, 0.000246305418719212, 0.000246305418719212, 0.000246305418719212, 0.000246305418719212, 0.00483870967741936, 0.000246305418719212, 0.000246305418719212, 0.000246305418719212, 0.000246305418719212, 0.00483870967741936, 0.000246305418719212, 0.000246305418719212, 0.000246305418719212, 0.000246305418719212, 0.00483870967741936, 0.000246305418719212, 0.000246305418719212, 0.000246305418719212, 0.000246305418719212, 0.00483870967741936, 0.00483870967741936, 0.000246305418719212, 0.00483870967741936, 0.00483870967741936, 0.00483870967741936, 0.00483870967741936, 0.000246305418719212, 0.000246305418719212, 0.00483870967741936, 0.00483870967741936, 0.00483870967741936, 0.00483870967741936, 0.000246305418719212, 0.000246305418719212, 0.00483870967741936, 0.00483870967741936, 0.00483870967741936, 0.00483870967741936, 0.00483870967741936, 0.000246305418719212, 0.00483870967741936, 0.00483870967741936, 0.00483870967741936, 0.000246305418719212, 0.000246305418719212, 0.000246305418719212, 0.000246305418719212, 0.00483870967741936, 0.00483870967741936, 0.00483870967741936, 0.000246305418719212, 0.00483870967741936, 0.000246305418719212, 0.00483870967741936, 0.00483870967741936, 0.000246305418719212, 0.000246305418719212, 0.00483870967741936, 0.00483870967741936, 0.00483870967741936, 0.000246305418719212, 0.000246305418719212, 0.000246305418719212, 0.00483870967741936, 0.000246305418719212, 0.00483870967741936, 0.00483870967741936, 0.000246305418719212, 0.000246305418719212, 0.000246305418719212, 0.000246305418719212, 0.000246305418719212, 0.000246305418719212, 0.000246305418719212, 0.00483870967741936, 0.00483870967741936, 0.00483870967741936, 0.000246305418719212, 0.00483870967741936, 0.00483870967741936, 0.00483870967741936, 0.00483870967741936, 0.00483870967741936, 0.00483870967741936, 0.00483870967741936, 0.00483870967741936, 0.00483870967741936, 0.00483870967741936, 0.000246305418719212, 0.00483870967741936, 0.00483870967741936, 0.00483870967741936, 0.00483870967741936, 0.00483870967741936, 0.00483870967741936, 0.00483870967741936, 0.00483870967741936, 0.00483870967741936, 0.000246305418719212, 0.000246305418719212, 0.000246305418719212, 0.00483870967741936, 0.00483870967741936, 0.00483870967741936, 0.00483870967741936, 0.00483870967741936, 0.00483870967741936, 0.00483870967741936, 0.00483870967741936, 0.00483870967741936, 0.00483870967741936, 0.00483870967741936, 0.00483870967741936, 0.00483870967741936, 0.00483870967741936, 0.00483870967741936, 0.000246305418719212, 0.00483870967741936, 0.000246305418719212, 0.00483870967741936, 0.000246305418719212, 0.000246305418719212, 0.000246305418719212, 0.000246305418719212, 0.000246305418719212, 0.000246305418719212, 0.000246305418719212, 0.000246305418719212, 0.000246305418719212, 0.000246305418719212, 0.000246305418719212, 0.000246305418719212, 0.000246305418719212, 0.000246305418719212, 0.000246305418719212, 0.000246305418719212, 0.000246305418719212, 0.000246305418719212, 0.000246305418719212, 0.000246305418719212, 0.000246305418719212, 0.000246305418719212, 0.000246305418719212, 0.000246305418719212, 0.000246305418719212, 0.000246305418719212, 0.000246305418719212, 0.000246305418719212, 0.000246305418719212, 0.00483870967741936, 0.000246305418719212, 0.000246305418719212, 0.000246305418719212, 0.000246305418719212, 0.000246305418719212, 0.00483870967741936, 0.000246305418719212, 0.00483870967741936, 0.000246305418719212, 0.000246305418719212, 0.000246305418719212, 0.000246305418719212, 0.000246305418719212, 0.000246305418719212, 0.000246305418719212, 0.000246305418719212, 0.000246305418719212, 0.00483870967741936, 0.000246305418719212, 0.000246305418719212, 0.00483870967741936, 0.000246305418719212, 0.000246305418719212, 0.000246305418719212, 0.00483870967741936, 0.000246305418719212, 0.000246305418719212, 0.000246305418719212, 0.000246305418719212, 0.00483870967741936, 0.000246305418719212, 0.000246305418719212, 0.000246305418719212, 0.000246305418719212, 0.000246305418719212, 0.000246305418719212, 0.000246305418719212, 0.000246305418719212, 0.000246305418719212, 0.000246305418719212, 0.000246305418719212, 0.000246305418719212, 0.000246305418719212, 0.000246305418719212, 0.000246305418719212, 0.000246305418719212, 0.000246305418719212, 0.000246305418719212, 0.000246305418719212, 0.000246305418719212, 0.000246305418719212, 0.000246305418719212, 0.000246305418719212, 0.000246305418719212, 0.000246305418719212, 0.000246305418719212, 0.000246305418719212, 0.000246305418719212, 0.000246305418719212, 0.000246305418719212, 0.000246305418719212, 0.000246305418719212, 0.000246305418719212, 0.000246305418719212, 0.000246305418719212, 0.000246305418719212, 0.000246305418719212, 0.000246305418719212, 0.000246305418719212, 0.000246305418719212, 0.000246305418719212, 0.000246305418719212, 0.000246305418719212, 0.000246305418719212, 0.000246305418719212, 0.000246305418719212, 0.000246305418719212, 0.000246305418719212, 0.000246305418719212, 0.000246305418719212, 0.000246305418719212, 0.000246305418719212, 0.000246305418719212, 0.000246305418719212, 0.000246305418719212, 0.000246305418719212, 0.000246305418719212, 0.000246305418719212, 0.000246305418719212, 0.000246305418719212, 0.000246305418719212, 0.000246305418719212, 0.000246305418719212, 0.000246305418719212, 0.000246305418719212, 0.000246305418719212, 0.000246305418719212, 0.000246305418719212, 0.000246305418719212, 0.000246305418719212, 0.000246305418719212, 0.000246305418719212, 0.000246305418719212, 0.000246305418719212, 0.000246305418719212, 0.000246305418719212, 0.000246305418719212, 0.000246305418719212, 0.000246305418719212, 0.00483870967741936, 0.000246305418719212, 0.000246305418719212, 0.000246305418719212, 0.000246305418719212, 0.000246305418719212, 0.000246305418719212, 0.000246305418719212, 0.000246305418719212, 0.000246305418719212, 0.000246305418719212, 0.00483870967741936]\n"
     ]
    }
   ],
   "source": [
    "print(weight4_lst)"
   ]
  },
  {
   "cell_type": "code",
   "execution_count": 11,
   "metadata": {
    "collapsed": true
   },
   "outputs": [
    {
     "name": "stdout",
     "output_type": "stream",
     "text": [
      "[2.46305418719212e-05, 2.46305418719212e-05, 2.46305418719212e-05, 2.46305418719212e-05, 2.46305418719212e-05, 2.46305418719212e-05, 2.46305418719212e-05, 2.46305418719212e-05, 2.46305418719212e-05, 2.46305418719212e-05, 2.46305418719212e-05, 2.46305418719212e-05, 2.46305418719212e-05, 2.46305418719212e-05, 2.46305418719212e-05, 2.46305418719212e-05, 2.46305418719212e-05, 2.46305418719212e-05, 2.46305418719212e-05, 2.46305418719212e-05, 2.46305418719212e-05, 2.46305418719212e-05, 2.46305418719212e-05, 2.46305418719212e-05, 2.46305418719212e-05, 2.46305418719212e-05, 2.46305418719212e-05, 2.46305418719212e-05, 2.46305418719212e-05, 2.46305418719212e-05, 2.46305418719212e-05, 2.46305418719212e-05, 2.46305418719212e-05, 2.46305418719212e-05, 2.46305418719212e-05, 2.46305418719212e-05, 2.46305418719212e-05, 2.46305418719212e-05, 2.46305418719212e-05, 2.46305418719212e-05, 2.46305418719212e-05, 2.46305418719212e-05, 0.00532258064516129, 2.46305418719212e-05, 0.00532258064516129, 0.00532258064516129, 2.46305418719212e-05, 2.46305418719212e-05, 2.46305418719212e-05, 0.00532258064516129, 2.46305418719212e-05, 2.46305418719212e-05, 2.46305418719212e-05, 2.46305418719212e-05, 0.00532258064516129, 2.46305418719212e-05, 2.46305418719212e-05, 2.46305418719212e-05, 2.46305418719212e-05, 2.46305418719212e-05, 2.46305418719212e-05, 2.46305418719212e-05, 2.46305418719212e-05, 2.46305418719212e-05, 2.46305418719212e-05, 2.46305418719212e-05, 2.46305418719212e-05, 2.46305418719212e-05, 2.46305418719212e-05, 2.46305418719212e-05, 0.00532258064516129, 2.46305418719212e-05, 2.46305418719212e-05, 0.00532258064516129, 0.00532258064516129, 0.00532258064516129, 2.46305418719212e-05, 2.46305418719212e-05, 2.46305418719212e-05, 2.46305418719212e-05, 2.46305418719212e-05, 2.46305418719212e-05, 2.46305418719212e-05, 2.46305418719212e-05, 2.46305418719212e-05, 2.46305418719212e-05, 2.46305418719212e-05, 2.46305418719212e-05, 0.00532258064516129, 2.46305418719212e-05, 2.46305418719212e-05, 2.46305418719212e-05, 2.46305418719212e-05, 2.46305418719212e-05, 2.46305418719212e-05, 2.46305418719212e-05, 2.46305418719212e-05, 2.46305418719212e-05, 2.46305418719212e-05, 2.46305418719212e-05, 2.46305418719212e-05, 2.46305418719212e-05, 2.46305418719212e-05, 0.00532258064516129, 2.46305418719212e-05, 0.00532258064516129, 2.46305418719212e-05, 2.46305418719212e-05, 0.00532258064516129, 2.46305418719212e-05, 2.46305418719212e-05, 2.46305418719212e-05, 2.46305418719212e-05, 2.46305418719212e-05, 2.46305418719212e-05, 0.00532258064516129, 2.46305418719212e-05, 2.46305418719212e-05, 0.00532258064516129, 2.46305418719212e-05, 2.46305418719212e-05, 0.00532258064516129, 0.00532258064516129, 2.46305418719212e-05, 2.46305418719212e-05, 0.00532258064516129, 0.00532258064516129, 0.00532258064516129, 0.00532258064516129, 0.00532258064516129, 2.46305418719212e-05, 2.46305418719212e-05, 2.46305418719212e-05, 2.46305418719212e-05, 2.46305418719212e-05, 0.00532258064516129, 2.46305418719212e-05, 2.46305418719212e-05, 2.46305418719212e-05, 2.46305418719212e-05, 2.46305418719212e-05, 0.00532258064516129, 0.00532258064516129, 0.00532258064516129, 0.00532258064516129, 0.00532258064516129, 0.00532258064516129, 0.00532258064516129, 0.00532258064516129, 0.00532258064516129, 0.00532258064516129, 0.00532258064516129, 2.46305418719212e-05, 0.00532258064516129, 0.00532258064516129, 2.46305418719212e-05, 2.46305418719212e-05, 2.46305418719212e-05, 2.46305418719212e-05, 2.46305418719212e-05, 2.46305418719212e-05, 2.46305418719212e-05, 2.46305418719212e-05, 2.46305418719212e-05, 2.46305418719212e-05, 2.46305418719212e-05, 2.46305418719212e-05, 2.46305418719212e-05, 2.46305418719212e-05, 2.46305418719212e-05, 2.46305418719212e-05, 2.46305418719212e-05, 2.46305418719212e-05, 2.46305418719212e-05, 0.00532258064516129, 0.00532258064516129, 2.46305418719212e-05, 2.46305418719212e-05, 0.00532258064516129, 2.46305418719212e-05, 2.46305418719212e-05, 2.46305418719212e-05, 2.46305418719212e-05, 2.46305418719212e-05, 2.46305418719212e-05, 2.46305418719212e-05, 2.46305418719212e-05, 0.00532258064516129, 2.46305418719212e-05, 2.46305418719212e-05, 2.46305418719212e-05, 0.00532258064516129, 2.46305418719212e-05, 0.00532258064516129, 0.00532258064516129, 0.00532258064516129, 0.00532258064516129, 0.00532258064516129, 2.46305418719212e-05, 0.00532258064516129, 2.46305418719212e-05, 2.46305418719212e-05, 2.46305418719212e-05, 0.00532258064516129, 0.00532258064516129, 0.00532258064516129, 0.00532258064516129, 0.00532258064516129, 0.00532258064516129, 2.46305418719212e-05, 0.00532258064516129, 2.46305418719212e-05, 2.46305418719212e-05, 2.46305418719212e-05, 2.46305418719212e-05, 2.46305418719212e-05, 2.46305418719212e-05, 0.00532258064516129, 2.46305418719212e-05, 0.00532258064516129, 2.46305418719212e-05, 0.00532258064516129, 2.46305418719212e-05, 0.00532258064516129, 2.46305418719212e-05, 2.46305418719212e-05, 2.46305418719212e-05, 0.00532258064516129, 2.46305418719212e-05, 2.46305418719212e-05, 0.00532258064516129, 0.00532258064516129, 0.00532258064516129, 0.00532258064516129, 0.00532258064516129, 0.00532258064516129, 0.00532258064516129, 0.00532258064516129, 0.00532258064516129, 0.00532258064516129, 0.00532258064516129, 0.00532258064516129, 0.00532258064516129, 0.00532258064516129, 0.00532258064516129, 2.46305418719212e-05, 2.46305418719212e-05, 0.00532258064516129, 0.00532258064516129, 0.00532258064516129, 0.00532258064516129, 0.00532258064516129, 0.00532258064516129, 0.00532258064516129, 0.00532258064516129, 0.00532258064516129, 0.00532258064516129, 0.00532258064516129, 0.00532258064516129, 0.00532258064516129, 2.46305418719212e-05, 2.46305418719212e-05, 2.46305418719212e-05, 2.46305418719212e-05, 2.46305418719212e-05, 2.46305418719212e-05, 0.00532258064516129, 2.46305418719212e-05, 2.46305418719212e-05, 0.00532258064516129, 0.00532258064516129, 0.00532258064516129, 2.46305418719212e-05, 2.46305418719212e-05, 2.46305418719212e-05, 2.46305418719212e-05, 2.46305418719212e-05, 2.46305418719212e-05, 2.46305418719212e-05, 2.46305418719212e-05, 0.00532258064516129, 2.46305418719212e-05, 2.46305418719212e-05, 2.46305418719212e-05, 2.46305418719212e-05, 2.46305418719212e-05, 2.46305418719212e-05, 2.46305418719212e-05, 2.46305418719212e-05, 2.46305418719212e-05, 2.46305418719212e-05, 2.46305418719212e-05, 2.46305418719212e-05, 0.00532258064516129, 2.46305418719212e-05, 2.46305418719212e-05, 2.46305418719212e-05, 2.46305418719212e-05, 2.46305418719212e-05, 2.46305418719212e-05, 2.46305418719212e-05, 0.00532258064516129, 2.46305418719212e-05, 2.46305418719212e-05, 2.46305418719212e-05, 0.00532258064516129, 0.00532258064516129, 0.00532258064516129, 0.00532258064516129, 0.00532258064516129, 0.00532258064516129, 0.00532258064516129, 0.00532258064516129, 0.00532258064516129, 0.00532258064516129, 0.00532258064516129, 2.46305418719212e-05, 2.46305418719212e-05, 2.46305418719212e-05, 2.46305418719212e-05, 2.46305418719212e-05, 2.46305418719212e-05, 2.46305418719212e-05, 2.46305418719212e-05, 2.46305418719212e-05, 0.00532258064516129, 2.46305418719212e-05, 2.46305418719212e-05, 2.46305418719212e-05, 2.46305418719212e-05, 0.00532258064516129, 2.46305418719212e-05, 2.46305418719212e-05, 2.46305418719212e-05, 2.46305418719212e-05, 0.00532258064516129, 2.46305418719212e-05, 2.46305418719212e-05, 2.46305418719212e-05, 2.46305418719212e-05, 0.00532258064516129, 0.00532258064516129, 2.46305418719212e-05, 0.00532258064516129, 0.00532258064516129, 0.00532258064516129, 0.00532258064516129, 2.46305418719212e-05, 2.46305418719212e-05, 0.00532258064516129, 0.00532258064516129, 0.00532258064516129, 0.00532258064516129, 2.46305418719212e-05, 2.46305418719212e-05, 0.00532258064516129, 0.00532258064516129, 0.00532258064516129, 0.00532258064516129, 0.00532258064516129, 2.46305418719212e-05, 0.00532258064516129, 0.00532258064516129, 0.00532258064516129, 2.46305418719212e-05, 2.46305418719212e-05, 2.46305418719212e-05, 2.46305418719212e-05, 0.00532258064516129, 0.00532258064516129, 0.00532258064516129, 2.46305418719212e-05, 0.00532258064516129, 2.46305418719212e-05, 0.00532258064516129, 0.00532258064516129, 2.46305418719212e-05, 2.46305418719212e-05, 0.00532258064516129, 0.00532258064516129, 0.00532258064516129, 2.46305418719212e-05, 2.46305418719212e-05, 2.46305418719212e-05, 0.00532258064516129, 2.46305418719212e-05, 0.00532258064516129, 0.00532258064516129, 2.46305418719212e-05, 2.46305418719212e-05, 2.46305418719212e-05, 2.46305418719212e-05, 2.46305418719212e-05, 2.46305418719212e-05, 2.46305418719212e-05, 0.00532258064516129, 0.00532258064516129, 0.00532258064516129, 2.46305418719212e-05, 0.00532258064516129, 0.00532258064516129, 0.00532258064516129, 0.00532258064516129, 0.00532258064516129, 0.00532258064516129, 0.00532258064516129, 0.00532258064516129, 0.00532258064516129, 0.00532258064516129, 2.46305418719212e-05, 0.00532258064516129, 0.00532258064516129, 0.00532258064516129, 0.00532258064516129, 0.00532258064516129, 0.00532258064516129, 0.00532258064516129, 0.00532258064516129, 0.00532258064516129, 2.46305418719212e-05, 2.46305418719212e-05, 2.46305418719212e-05, 0.00532258064516129, 0.00532258064516129, 0.00532258064516129, 0.00532258064516129, 0.00532258064516129, 0.00532258064516129, 0.00532258064516129, 0.00532258064516129, 0.00532258064516129, 0.00532258064516129, 0.00532258064516129, 0.00532258064516129, 0.00532258064516129, 0.00532258064516129, 0.00532258064516129, 2.46305418719212e-05, 0.00532258064516129, 2.46305418719212e-05, 0.00532258064516129, 2.46305418719212e-05, 2.46305418719212e-05, 2.46305418719212e-05, 2.46305418719212e-05, 2.46305418719212e-05, 2.46305418719212e-05, 2.46305418719212e-05, 2.46305418719212e-05, 2.46305418719212e-05, 2.46305418719212e-05, 2.46305418719212e-05, 2.46305418719212e-05, 2.46305418719212e-05, 2.46305418719212e-05, 2.46305418719212e-05, 2.46305418719212e-05, 2.46305418719212e-05, 2.46305418719212e-05, 2.46305418719212e-05, 2.46305418719212e-05, 2.46305418719212e-05, 2.46305418719212e-05, 2.46305418719212e-05, 2.46305418719212e-05, 2.46305418719212e-05, 2.46305418719212e-05, 2.46305418719212e-05, 2.46305418719212e-05, 2.46305418719212e-05, 0.00532258064516129, 2.46305418719212e-05, 2.46305418719212e-05, 2.46305418719212e-05, 2.46305418719212e-05, 2.46305418719212e-05, 0.00532258064516129, 2.46305418719212e-05, 0.00532258064516129, 2.46305418719212e-05, 2.46305418719212e-05, 2.46305418719212e-05, 2.46305418719212e-05, 2.46305418719212e-05, 2.46305418719212e-05, 2.46305418719212e-05, 2.46305418719212e-05, 2.46305418719212e-05, 0.00532258064516129, 2.46305418719212e-05, 2.46305418719212e-05, 0.00532258064516129, 2.46305418719212e-05, 2.46305418719212e-05, 2.46305418719212e-05, 0.00532258064516129, 2.46305418719212e-05, 2.46305418719212e-05, 2.46305418719212e-05, 2.46305418719212e-05, 0.00532258064516129, 2.46305418719212e-05, 2.46305418719212e-05, 2.46305418719212e-05, 2.46305418719212e-05, 2.46305418719212e-05, 2.46305418719212e-05, 2.46305418719212e-05, 2.46305418719212e-05, 2.46305418719212e-05, 2.46305418719212e-05, 2.46305418719212e-05, 2.46305418719212e-05, 2.46305418719212e-05, 2.46305418719212e-05, 2.46305418719212e-05, 2.46305418719212e-05, 2.46305418719212e-05, 2.46305418719212e-05, 2.46305418719212e-05, 2.46305418719212e-05, 2.46305418719212e-05, 2.46305418719212e-05, 2.46305418719212e-05, 2.46305418719212e-05, 2.46305418719212e-05, 2.46305418719212e-05, 2.46305418719212e-05, 2.46305418719212e-05, 2.46305418719212e-05, 2.46305418719212e-05, 2.46305418719212e-05, 2.46305418719212e-05, 2.46305418719212e-05, 2.46305418719212e-05, 2.46305418719212e-05, 2.46305418719212e-05, 2.46305418719212e-05, 2.46305418719212e-05, 2.46305418719212e-05, 2.46305418719212e-05, 2.46305418719212e-05, 2.46305418719212e-05, 2.46305418719212e-05, 2.46305418719212e-05, 2.46305418719212e-05, 2.46305418719212e-05, 2.46305418719212e-05, 2.46305418719212e-05, 2.46305418719212e-05, 2.46305418719212e-05, 2.46305418719212e-05, 2.46305418719212e-05, 2.46305418719212e-05, 2.46305418719212e-05, 2.46305418719212e-05, 2.46305418719212e-05, 2.46305418719212e-05, 2.46305418719212e-05, 2.46305418719212e-05, 2.46305418719212e-05, 2.46305418719212e-05, 2.46305418719212e-05, 2.46305418719212e-05, 2.46305418719212e-05, 2.46305418719212e-05, 2.46305418719212e-05, 2.46305418719212e-05, 2.46305418719212e-05, 2.46305418719212e-05, 2.46305418719212e-05, 2.46305418719212e-05, 2.46305418719212e-05, 2.46305418719212e-05, 2.46305418719212e-05, 2.46305418719212e-05, 2.46305418719212e-05, 2.46305418719212e-05, 2.46305418719212e-05, 2.46305418719212e-05, 0.00532258064516129, 2.46305418719212e-05, 2.46305418719212e-05, 2.46305418719212e-05, 2.46305418719212e-05, 2.46305418719212e-05, 2.46305418719212e-05, 2.46305418719212e-05, 2.46305418719212e-05, 2.46305418719212e-05, 2.46305418719212e-05, 0.00532258064516129]\n"
     ]
    }
   ],
   "source": [
    "print(weight5_lst)"
   ]
  },
  {
   "cell_type": "code",
   "execution_count": 42,
   "metadata": {
    "collapsed": true
   },
   "outputs": [
    {
     "name": "stdout",
     "output_type": "stream",
     "text": [
      "['0.0000246', '0.0000246', '0.0000246', '0.0000246', '0.0000246', '0.0000246', '0.0000246', '0.0000246', '0.0000246', '0.0000246', '0.0000246', '0.0000246', '0.0000246', '0.0000246', '0.0000246', '0.0000246', '0.0000246', '0.0000246', '0.0000246', '0.0000246', '0.0000246', '0.0000246', '0.0000246', '0.0000246', '0.0000246', '0.0000246', '0.0000246', '0.0000246', '0.0000246', '0.0000246', '0.0000246', '0.0000246', '0.0000246', '0.0000246', '0.0000246', '0.0000246', '0.0000246', '0.0000246', '0.0000246', '0.0000246', '0.0000246', '0.0000246', '0.0053226', '0.0000246', '0.0053226', '0.0053226', '0.0000246', '0.0000246', '0.0000246', '0.0053226', '0.0000246', '0.0000246', '0.0000246', '0.0000246', '0.0053226', '0.0000246', '0.0000246', '0.0000246', '0.0000246', '0.0000246', '0.0000246', '0.0000246', '0.0000246', '0.0000246', '0.0000246', '0.0000246', '0.0000246', '0.0000246', '0.0000246', '0.0000246', '0.0053226', '0.0000246', '0.0000246', '0.0053226', '0.0053226', '0.0053226', '0.0000246', '0.0000246', '0.0000246', '0.0000246', '0.0000246', '0.0000246', '0.0000246', '0.0000246', '0.0000246', '0.0000246', '0.0000246', '0.0000246', '0.0053226', '0.0000246', '0.0000246', '0.0000246', '0.0000246', '0.0000246', '0.0000246', '0.0000246', '0.0000246', '0.0000246', '0.0000246', '0.0000246', '0.0000246', '0.0000246', '0.0000246', '0.0053226', '0.0000246', '0.0053226', '0.0000246', '0.0000246', '0.0053226', '0.0000246', '0.0000246', '0.0000246', '0.0000246', '0.0000246', '0.0000246', '0.0053226', '0.0000246', '0.0000246', '0.0053226', '0.0000246', '0.0000246', '0.0053226', '0.0053226', '0.0000246', '0.0000246', '0.0053226', '0.0053226', '0.0053226', '0.0053226', '0.0053226', '0.0000246', '0.0000246', '0.0000246', '0.0000246', '0.0000246', '0.0053226', '0.0000246', '0.0000246', '0.0000246', '0.0000246', '0.0000246', '0.0053226', '0.0053226', '0.0053226', '0.0053226', '0.0053226', '0.0053226', '0.0053226', '0.0053226', '0.0053226', '0.0053226', '0.0053226', '0.0000246', '0.0053226', '0.0053226', '0.0000246', '0.0000246', '0.0000246', '0.0000246', '0.0000246', '0.0000246', '0.0000246', '0.0000246', '0.0000246', '0.0000246', '0.0000246', '0.0000246', '0.0000246', '0.0000246', '0.0000246', '0.0000246', '0.0000246', '0.0000246', '0.0000246', '0.0053226', '0.0053226', '0.0000246', '0.0000246', '0.0053226', '0.0000246', '0.0000246', '0.0000246', '0.0000246', '0.0000246', '0.0000246', '0.0000246', '0.0000246', '0.0053226', '0.0000246', '0.0000246', '0.0000246', '0.0053226', '0.0000246', '0.0053226', '0.0053226', '0.0053226', '0.0053226', '0.0053226', '0.0000246', '0.0053226', '0.0000246', '0.0000246', '0.0000246', '0.0053226', '0.0053226', '0.0053226', '0.0053226', '0.0053226', '0.0053226', '0.0000246', '0.0053226', '0.0000246', '0.0000246', '0.0000246', '0.0000246', '0.0000246', '0.0000246', '0.0053226', '0.0000246', '0.0053226', '0.0000246', '0.0053226', '0.0000246', '0.0053226', '0.0000246', '0.0000246', '0.0000246', '0.0053226', '0.0000246', '0.0000246', '0.0053226', '0.0053226', '0.0053226', '0.0053226', '0.0053226', '0.0053226', '0.0053226', '0.0053226', '0.0053226', '0.0053226', '0.0053226', '0.0053226', '0.0053226', '0.0053226', '0.0053226', '0.0000246', '0.0000246', '0.0053226', '0.0053226', '0.0053226', '0.0053226', '0.0053226', '0.0053226', '0.0053226', '0.0053226', '0.0053226', '0.0053226', '0.0053226', '0.0053226', '0.0053226', '0.0000246', '0.0000246', '0.0000246', '0.0000246', '0.0000246', '0.0000246', '0.0053226', '0.0000246', '0.0000246', '0.0053226', '0.0053226', '0.0053226', '0.0000246', '0.0000246', '0.0000246', '0.0000246', '0.0000246', '0.0000246', '0.0000246', '0.0000246', '0.0053226', '0.0000246', '0.0000246', '0.0000246', '0.0000246', '0.0000246', '0.0000246', '0.0000246', '0.0000246', '0.0000246', '0.0000246', '0.0000246', '0.0000246', '0.0053226', '0.0000246', '0.0000246', '0.0000246', '0.0000246', '0.0000246', '0.0000246', '0.0000246', '0.0053226', '0.0000246', '0.0000246', '0.0000246', '0.0053226', '0.0053226', '0.0053226', '0.0053226', '0.0053226', '0.0053226', '0.0053226', '0.0053226', '0.0053226', '0.0053226', '0.0053226', '0.0000246', '0.0000246', '0.0000246', '0.0000246', '0.0000246', '0.0000246', '0.0000246', '0.0000246', '0.0000246', '0.0053226', '0.0000246', '0.0000246', '0.0000246', '0.0000246', '0.0053226', '0.0000246', '0.0000246', '0.0000246', '0.0000246', '0.0053226', '0.0000246', '0.0000246', '0.0000246', '0.0000246', '0.0053226', '0.0053226', '0.0000246', '0.0053226', '0.0053226', '0.0053226', '0.0053226', '0.0000246', '0.0000246', '0.0053226', '0.0053226', '0.0053226', '0.0053226', '0.0000246', '0.0000246', '0.0053226', '0.0053226', '0.0053226', '0.0053226', '0.0053226', '0.0000246', '0.0053226', '0.0053226', '0.0053226', '0.0000246', '0.0000246', '0.0000246', '0.0000246', '0.0053226', '0.0053226', '0.0053226', '0.0000246', '0.0053226', '0.0000246', '0.0053226', '0.0053226', '0.0000246', '0.0000246', '0.0053226', '0.0053226', '0.0053226', '0.0000246', '0.0000246', '0.0000246', '0.0053226', '0.0000246', '0.0053226', '0.0053226', '0.0000246', '0.0000246', '0.0000246', '0.0000246', '0.0000246', '0.0000246', '0.0000246', '0.0053226', '0.0053226', '0.0053226', '0.0000246', '0.0053226', '0.0053226', '0.0053226', '0.0053226', '0.0053226', '0.0053226', '0.0053226', '0.0053226', '0.0053226', '0.0053226', '0.0000246', '0.0053226', '0.0053226', '0.0053226', '0.0053226', '0.0053226', '0.0053226', '0.0053226', '0.0053226', '0.0053226', '0.0000246', '0.0000246', '0.0000246', '0.0053226', '0.0053226', '0.0053226', '0.0053226', '0.0053226', '0.0053226', '0.0053226', '0.0053226', '0.0053226', '0.0053226', '0.0053226', '0.0053226', '0.0053226', '0.0053226', '0.0053226', '0.0000246', '0.0053226', '0.0000246', '0.0053226', '0.0000246', '0.0000246', '0.0000246', '0.0000246', '0.0000246', '0.0000246', '0.0000246', '0.0000246', '0.0000246', '0.0000246', '0.0000246', '0.0000246', '0.0000246', '0.0000246', '0.0000246', '0.0000246', '0.0000246', '0.0000246', '0.0000246', '0.0000246', '0.0000246', '0.0000246', '0.0000246', '0.0000246', '0.0000246', '0.0000246', '0.0000246', '0.0000246', '0.0000246', '0.0053226', '0.0000246', '0.0000246', '0.0000246', '0.0000246', '0.0000246', '0.0053226', '0.0000246', '0.0053226', '0.0000246', '0.0000246', '0.0000246', '0.0000246', '0.0000246', '0.0000246', '0.0000246', '0.0000246', '0.0000246', '0.0053226', '0.0000246', '0.0000246', '0.0053226', '0.0000246', '0.0000246', '0.0000246', '0.0053226', '0.0000246', '0.0000246', '0.0000246', '0.0000246', '0.0053226', '0.0000246', '0.0000246', '0.0000246', '0.0000246', '0.0000246', '0.0000246', '0.0000246', '0.0000246', '0.0000246', '0.0000246', '0.0000246', '0.0000246', '0.0000246', '0.0000246', '0.0000246', '0.0000246', '0.0000246', '0.0000246', '0.0000246', '0.0000246', '0.0000246', '0.0000246', '0.0000246', '0.0000246', '0.0000246', '0.0000246', '0.0000246', '0.0000246', '0.0000246', '0.0000246', '0.0000246', '0.0000246', '0.0000246', '0.0000246', '0.0000246', '0.0000246', '0.0000246', '0.0000246', '0.0000246', '0.0000246', '0.0000246', '0.0000246', '0.0000246', '0.0000246', '0.0000246', '0.0000246', '0.0000246', '0.0000246', '0.0000246', '0.0000246', '0.0000246', '0.0000246', '0.0000246', '0.0000246', '0.0000246', '0.0000246', '0.0000246', '0.0000246', '0.0000246', '0.0000246', '0.0000246', '0.0000246', '0.0000246', '0.0000246', '0.0000246', '0.0000246', '0.0000246', '0.0000246', '0.0000246', '0.0000246', '0.0000246', '0.0000246', '0.0000246', '0.0000246', '0.0000246', '0.0000246', '0.0000246', '0.0000246', '0.0000246', '0.0053226', '0.0000246', '0.0000246', '0.0000246', '0.0000246', '0.0000246', '0.0000246', '0.0000246', '0.0000246', '0.0000246', '0.0000246', '0.0053226']\n"
     ]
    }
   ],
   "source": [
    "w5_string = weight.set_index(keys=['col_fmt']).reindex(X_train.columns.tolist()).weight5.tolist()\n",
    "print([\"{0:.7f}\".format(i) for i in w5_string])"
   ]
  },
  {
   "cell_type": "code",
   "execution_count": 15,
   "metadata": {
    "collapsed": true
   },
   "outputs": [
    {
     "name": "stdout",
     "output_type": "stream",
     "text": [
      "[0.0016891891891891893, 0.0016891891891891893, 0.0016891891891891893, 0.0016891891891891893, 0.0016891891891891893, 0.0016891891891891893, 0.0016891891891891893, 0.0016891891891891893, 0.0016891891891891893, 0.0016891891891891893, 0.0016891891891891893, 0.0016891891891891893, 0.0016891891891891893, 0.0016891891891891893, 0.0016891891891891893, 0.0016891891891891893, 0.0016891891891891893, 0.0016891891891891893, 0.0016891891891891893, 0.0016891891891891893, 0.0016891891891891893, 0.0016891891891891893, 0.0016891891891891893, 0.0016891891891891893, 0.0016891891891891893, 0.0016891891891891893, 0.0016891891891891893, 0.0016891891891891893, 0.0016891891891891893, 0.0016891891891891893, 0.0016891891891891893, 0.0016891891891891893, 0.0016891891891891893, 0.0016891891891891893, 0.0016891891891891893, 0.0016891891891891893, 0.0016891891891891893, 0.0016891891891891893, 0.0016891891891891893, 0.0016891891891891893, 0.0016891891891891893, 0.0016891891891891893, 0.0016891891891891893, 0.0016891891891891893, 0.0016891891891891893, 0.0016891891891891893, 0.0016891891891891893, 0.0016891891891891893, 0.0016891891891891893, 0.0016891891891891893, 0.0016891891891891893, 0.0016891891891891893, 0.0016891891891891893, 0.0016891891891891893, 0.0016891891891891893, 0.0016891891891891893, 0.0016891891891891893, 0.0016891891891891893, 0.0016891891891891893, 0.0016891891891891893, 0.0016891891891891893, 0.0016891891891891893, 0.0016891891891891893, 0.0016891891891891893, 0.0016891891891891893, 0.0016891891891891893, 0.0016891891891891893, 0.0016891891891891893, 0.0016891891891891893, 0.0016891891891891893, 0.0016891891891891893, 0.0016891891891891893, 0.0016891891891891893, 0.0016891891891891893, 0.0016891891891891893, 0.0016891891891891893, 0.0016891891891891893, 0.0016891891891891893, 0.0016891891891891893, 0.0016891891891891893, 0.0016891891891891893, 0.0016891891891891893, 0.0016891891891891893, 0.0016891891891891893, 0.0016891891891891893, 0.0016891891891891893, 0.0016891891891891893, 0.0016891891891891893, 0.0016891891891891893, 0.0016891891891891893, 0.0016891891891891893, 0.0016891891891891893, 0.0016891891891891893, 0.0016891891891891893, 0.0016891891891891893, 0.0016891891891891893, 0.0016891891891891893, 0.0016891891891891893, 0.0016891891891891893, 0.0016891891891891893, 0.0016891891891891893, 0.0016891891891891893, 0.0016891891891891893, 0.0016891891891891893, 0.0016891891891891893, 0.0016891891891891893, 0.0016891891891891893, 0.0016891891891891893, 0.0016891891891891893, 0.0016891891891891893, 0.0016891891891891893, 0.0016891891891891893, 0.0016891891891891893, 0.0016891891891891893, 0.0016891891891891893, 0.0016891891891891893, 0.0016891891891891893, 0.0016891891891891893, 0.0016891891891891893, 0.0016891891891891893, 0.0016891891891891893, 0.0016891891891891893, 0.0016891891891891893, 0.0016891891891891893, 0.0016891891891891893, 0.0016891891891891893, 0.0016891891891891893, 0.0016891891891891893, 0.0016891891891891893, 0.0016891891891891893, 0.0016891891891891893, 0.0016891891891891893, 0.0016891891891891893, 0.0016891891891891893, 0.0016891891891891893, 0.0016891891891891893, 0.0016891891891891893, 0.0016891891891891893, 0.0016891891891891893, 0.0016891891891891893, 0.0016891891891891893, 0.0016891891891891893, 0.0016891891891891893, 0.0016891891891891893, 0.0016891891891891893, 0.0016891891891891893, 0.0016891891891891893, 0.0016891891891891893, 0.0016891891891891893, 0.0016891891891891893, 0.0016891891891891893, 0.0016891891891891893, 0.0016891891891891893, 0.0016891891891891893, 0.0016891891891891893, 0.0016891891891891893, 0.0016891891891891893, 0.0016891891891891893, 0.0016891891891891893, 0.0016891891891891893, 0.0016891891891891893, 0.0016891891891891893, 0.0016891891891891893, 0.0016891891891891893, 0.0016891891891891893, 0.0016891891891891893, 0.0016891891891891893, 0.0016891891891891893, 0.0016891891891891893, 0.0016891891891891893, 0.0016891891891891893, 0.0016891891891891893, 0.0016891891891891893, 0.0016891891891891893, 0.0016891891891891893, 0.0016891891891891893, 0.0016891891891891893, 0.0016891891891891893, 0.0016891891891891893, 0.0016891891891891893, 0.0016891891891891893, 0.0016891891891891893, 0.0016891891891891893, 0.0016891891891891893, 0.0016891891891891893, 0.0016891891891891893, 0.0016891891891891893, 0.0016891891891891893, 0.0016891891891891893, 0.0016891891891891893, 0.0016891891891891893, 0.0016891891891891893, 0.0016891891891891893, 0.0016891891891891893, 0.0016891891891891893, 0.0016891891891891893, 0.0016891891891891893, 0.0016891891891891893, 0.0016891891891891893, 0.0016891891891891893, 0.0016891891891891893, 0.0016891891891891893, 0.0016891891891891893, 0.0016891891891891893, 0.0016891891891891893, 0.0016891891891891893, 0.0016891891891891893, 0.0016891891891891893, 0.0016891891891891893, 0.0016891891891891893, 0.0016891891891891893, 0.0016891891891891893, 0.0016891891891891893, 0.0016891891891891893, 0.0016891891891891893, 0.0016891891891891893, 0.0016891891891891893, 0.0016891891891891893, 0.0016891891891891893, 0.0016891891891891893, 0.0016891891891891893, 0.0016891891891891893, 0.0016891891891891893, 0.0016891891891891893, 0.0016891891891891893, 0.0016891891891891893, 0.0016891891891891893, 0.0016891891891891893, 0.0016891891891891893, 0.0016891891891891893, 0.0016891891891891893, 0.0016891891891891893, 0.0016891891891891893, 0.0016891891891891893, 0.0016891891891891893, 0.0016891891891891893, 0.0016891891891891893, 0.0016891891891891893, 0.0016891891891891893, 0.0016891891891891893, 0.0016891891891891893, 0.0016891891891891893, 0.0016891891891891893, 0.0016891891891891893, 0.0016891891891891893, 0.0016891891891891893, 0.0016891891891891893, 0.0016891891891891893, 0.0016891891891891893, 0.0016891891891891893, 0.0016891891891891893, 0.0016891891891891893, 0.0016891891891891893, 0.0016891891891891893, 0.0016891891891891893, 0.0016891891891891893, 0.0016891891891891893, 0.0016891891891891893, 0.0016891891891891893, 0.0016891891891891893, 0.0016891891891891893, 0.0016891891891891893, 0.0016891891891891893, 0.0016891891891891893, 0.0016891891891891893, 0.0016891891891891893, 0.0016891891891891893, 0.0016891891891891893, 0.0016891891891891893, 0.0016891891891891893, 0.0016891891891891893, 0.0016891891891891893, 0.0016891891891891893, 0.0016891891891891893, 0.0016891891891891893, 0.0016891891891891893, 0.0016891891891891893, 0.0016891891891891893, 0.0016891891891891893, 0.0016891891891891893, 0.0016891891891891893, 0.0016891891891891893, 0.0016891891891891893, 0.0016891891891891893, 0.0016891891891891893, 0.0016891891891891893, 0.0016891891891891893, 0.0016891891891891893, 0.0016891891891891893, 0.0016891891891891893, 0.0016891891891891893, 0.0016891891891891893, 0.0016891891891891893, 0.0016891891891891893, 0.0016891891891891893, 0.0016891891891891893, 0.0016891891891891893, 0.0016891891891891893, 0.0016891891891891893, 0.0016891891891891893, 0.0016891891891891893, 0.0016891891891891893, 0.0016891891891891893, 0.0016891891891891893, 0.0016891891891891893, 0.0016891891891891893, 0.0016891891891891893, 0.0016891891891891893, 0.0016891891891891893, 0.0016891891891891893, 0.0016891891891891893, 0.0016891891891891893, 0.0016891891891891893, 0.0016891891891891893, 0.0016891891891891893, 0.0016891891891891893, 0.0016891891891891893, 0.0016891891891891893, 0.0016891891891891893, 0.0016891891891891893, 0.0016891891891891893, 0.0016891891891891893, 0.0016891891891891893, 0.0016891891891891893, 0.0016891891891891893, 0.0016891891891891893, 0.0016891891891891893, 0.0016891891891891893, 0.0016891891891891893, 0.0016891891891891893, 0.0016891891891891893, 0.0016891891891891893, 0.0016891891891891893, 0.0016891891891891893, 0.0016891891891891893, 0.0016891891891891893, 0.0016891891891891893, 0.0016891891891891893, 0.0016891891891891893, 0.0016891891891891893, 0.0016891891891891893, 0.0016891891891891893, 0.0016891891891891893, 0.0016891891891891893, 0.0016891891891891893, 0.0016891891891891893, 0.0016891891891891893, 0.0016891891891891893, 0.0016891891891891893, 0.0016891891891891893, 0.0016891891891891893, 0.0016891891891891893, 0.0016891891891891893, 0.0016891891891891893, 0.0016891891891891893, 0.0016891891891891893, 0.0016891891891891893, 0.0016891891891891893, 0.0016891891891891893, 0.0016891891891891893, 0.0016891891891891893, 0.0016891891891891893, 0.0016891891891891893, 0.0016891891891891893, 0.0016891891891891893, 0.0016891891891891893, 0.0016891891891891893, 0.0016891891891891893, 0.0016891891891891893, 0.0016891891891891893, 0.0016891891891891893, 0.0016891891891891893, 0.0016891891891891893, 0.0016891891891891893, 0.0016891891891891893, 0.0016891891891891893, 0.0016891891891891893, 0.0016891891891891893, 0.0016891891891891893, 0.0016891891891891893, 0.0016891891891891893, 0.0016891891891891893, 0.0016891891891891893, 0.0016891891891891893, 0.0016891891891891893, 0.0016891891891891893, 0.0016891891891891893, 0.0016891891891891893, 0.0016891891891891893, 0.0016891891891891893, 0.0016891891891891893, 0.0016891891891891893, 0.0016891891891891893, 0.0016891891891891893, 0.0016891891891891893, 0.0016891891891891893, 0.0016891891891891893, 0.0016891891891891893, 0.0016891891891891893, 0.0016891891891891893, 0.0016891891891891893, 0.0016891891891891893, 0.0016891891891891893, 0.0016891891891891893, 0.0016891891891891893, 0.0016891891891891893, 0.0016891891891891893, 0.0016891891891891893, 0.0016891891891891893, 0.0016891891891891893, 0.0016891891891891893, 0.0016891891891891893, 0.0016891891891891893, 0.0016891891891891893, 0.0016891891891891893, 0.0016891891891891893, 0.0016891891891891893, 0.0016891891891891893, 0.0016891891891891893, 0.0016891891891891893, 0.0016891891891891893, 0.0016891891891891893, 0.0016891891891891893, 0.0016891891891891893, 0.0016891891891891893, 0.0016891891891891893, 0.0016891891891891893, 0.0016891891891891893, 0.0016891891891891893, 0.0016891891891891893, 0.0016891891891891893, 0.0016891891891891893, 0.0016891891891891893, 0.0016891891891891893, 0.0016891891891891893, 0.0016891891891891893, 0.0016891891891891893, 0.0016891891891891893, 0.0016891891891891893, 0.0016891891891891893, 0.0016891891891891893, 0.0016891891891891893, 0.0016891891891891893, 0.0016891891891891893, 0.0016891891891891893, 0.0016891891891891893, 0.0016891891891891893, 0.0016891891891891893, 0.0016891891891891893, 0.0016891891891891893, 0.0016891891891891893, 0.0016891891891891893, 0.0016891891891891893, 0.0016891891891891893, 0.0016891891891891893, 0.0016891891891891893, 0.0016891891891891893, 0.0016891891891891893, 0.0016891891891891893, 0.0016891891891891893, 0.0016891891891891893, 0.0016891891891891893, 0.0016891891891891893, 0.0016891891891891893, 0.0016891891891891893, 0.0016891891891891893, 0.0016891891891891893, 0.0016891891891891893, 0.0016891891891891893, 0.0016891891891891893, 0.0016891891891891893, 0.0016891891891891893, 0.0016891891891891893, 0.0016891891891891893, 0.0016891891891891893, 0.0016891891891891893, 0.0016891891891891893, 0.0016891891891891893, 0.0016891891891891893, 0.0016891891891891893, 0.0016891891891891893, 0.0016891891891891893, 0.0016891891891891893, 0.0016891891891891893, 0.0016891891891891893, 0.0016891891891891893, 0.0016891891891891893, 0.0016891891891891893, 0.0016891891891891893, 0.0016891891891891893, 0.0016891891891891893, 0.0016891891891891893, 0.0016891891891891893, 0.0016891891891891893, 0.0016891891891891893, 0.0016891891891891893, 0.0016891891891891893, 0.0016891891891891893, 0.0016891891891891893, 0.0016891891891891893, 0.0016891891891891893, 0.0016891891891891893, 0.0016891891891891893, 0.0016891891891891893, 0.0016891891891891893, 0.0016891891891891893, 0.0016891891891891893, 0.0016891891891891893, 0.0016891891891891893, 0.0016891891891891893, 0.0016891891891891893, 0.0016891891891891893, 0.0016891891891891893, 0.0016891891891891893, 0.0016891891891891893, 0.0016891891891891893, 0.0016891891891891893, 0.0016891891891891893, 0.0016891891891891893, 0.0016891891891891893, 0.0016891891891891893, 0.0016891891891891893, 0.0016891891891891893, 0.0016891891891891893, 0.0016891891891891893, 0.0016891891891891893, 0.0016891891891891893, 0.0016891891891891893, 0.0016891891891891893, 0.0016891891891891893, 0.0016891891891891893, 0.0016891891891891893, 0.0016891891891891893, 0.0016891891891891893, 0.0016891891891891893, 0.0016891891891891893, 0.0016891891891891893, 0.0016891891891891893, 0.0016891891891891893, 0.0016891891891891893, 0.0016891891891891893, 0.0016891891891891893, 0.0016891891891891893, 0.0016891891891891893, 0.0016891891891891893, 0.0016891891891891893, 0.0016891891891891893, 0.0016891891891891893, 0.0016891891891891893, 0.0016891891891891893, 0.0016891891891891893, 0.0016891891891891893, 0.0016891891891891893, 0.0016891891891891893, 0.0016891891891891893, 0.0016891891891891893, 0.0016891891891891893, 0.0016891891891891893, 0.0016891891891891893, 0.0016891891891891893, 0.0016891891891891893, 0.0016891891891891893, 0.0016891891891891893, 0.0016891891891891893, 0.0016891891891891893, 0.0016891891891891893, 0.0016891891891891893, 0.0016891891891891893, 0.0016891891891891893, 0.0016891891891891893, 0.0016891891891891893, 0.0016891891891891893, 0.0016891891891891893, 0.0016891891891891893, 0.0016891891891891893, 0.0016891891891891893, 0.0016891891891891893, 0.0016891891891891893, 0.0016891891891891893, 0.0016891891891891893, 0.0016891891891891893, 0.0016891891891891893, 0.0016891891891891893, 0.0016891891891891893, 0.0016891891891891893, 0.0016891891891891893, 0.0016891891891891893, 0.0016891891891891893, 0.0016891891891891893, 0.0016891891891891893, 0.0016891891891891893, 0.0016891891891891893]\n"
     ]
    }
   ],
   "source": [
    "print([1/len(weight1_lst) for i in range(len(weight1_lst))])"
   ]
  },
  {
   "cell_type": "code",
   "execution_count": 4,
   "metadata": {},
   "outputs": [
    {
     "name": "stdout",
     "output_type": "stream",
     "text": [
      "<bound method XGBModel.get_xgb_params of XGBClassifier(base_score=0.5, booster='gbtree', colsample_bylevel=1,\n",
      "              colsample_bynode=1, colsample_bytree=1, gamma=0, gpu_id=-1,\n",
      "              learning_rate=0.1, max_delta_step=0, max_depth=3,\n",
      "              min_child_weight=1, missing=None, n_estimators=100, n_jobs=20,\n",
      "              objective='binary:logistic',\n",
      "              params={'booster': 'gbtree',\n",
      "                      'colsample_bytree': 0.5000000007978516, 'eta': 0.3,\n",
      "                      'eval_metric': 'logloss', 'max_depth': 10,\n",
      "                      'min_child_weight': 10, 'n_jobs': 20,\n",
      "                      'objective': 'binary:logistic', 'seed': 1001,\n",
      "                      'silent': True, 'subsample': 0.8},\n",
      "              random_state=0, reg_alpha=0, reg_lambda=1, scale_pos_weight=1,\n",
      "              subsample=1, tree_method='auto', validate_parameters=False,\n",
      "              verbosity=1)>\n"
     ]
    }
   ],
   "source": []
  },
  {
   "cell_type": "code",
   "execution_count": 5,
   "metadata": {},
   "outputs": [
    {
     "data": {
      "text/html": [
       "<div>\n",
       "<style scoped>\n",
       "    .dataframe tbody tr th:only-of-type {\n",
       "        vertical-align: middle;\n",
       "    }\n",
       "\n",
       "    .dataframe tbody tr th {\n",
       "        vertical-align: top;\n",
       "    }\n",
       "\n",
       "    .dataframe thead th {\n",
       "        text-align: right;\n",
       "    }\n",
       "</style>\n",
       "<table border=\"1\" class=\"dataframe\">\n",
       "  <thead>\n",
       "    <tr style=\"text-align: right;\">\n",
       "      <th></th>\n",
       "      <th>cols</th>\n",
       "      <th>feature_importances</th>\n",
       "    </tr>\n",
       "  </thead>\n",
       "  <tbody>\n",
       "    <tr>\n",
       "      <th>509</th>\n",
       "      <td>CH.71010</td>\n",
       "      <td>0.027257</td>\n",
       "    </tr>\n",
       "    <tr>\n",
       "      <th>204</th>\n",
       "      <td>2160.0_change</td>\n",
       "      <td>0.022644</td>\n",
       "    </tr>\n",
       "    <tr>\n",
       "      <th>108</th>\n",
       "      <td>1719286.01</td>\n",
       "      <td>0.021794</td>\n",
       "    </tr>\n",
       "    <tr>\n",
       "      <th>568</th>\n",
       "      <td>CH.J7060</td>\n",
       "      <td>0.016275</td>\n",
       "    </tr>\n",
       "    <tr>\n",
       "      <th>321</th>\n",
       "      <td>373112.01_cum</td>\n",
       "      <td>0.016081</td>\n",
       "    </tr>\n",
       "    <tr>\n",
       "      <th>...</th>\n",
       "      <td>...</td>\n",
       "      <td>...</td>\n",
       "    </tr>\n",
       "    <tr>\n",
       "      <th>226</th>\n",
       "      <td>257</td>\n",
       "      <td>0.000000</td>\n",
       "    </tr>\n",
       "    <tr>\n",
       "      <th>225</th>\n",
       "      <td>256</td>\n",
       "      <td>0.000000</td>\n",
       "    </tr>\n",
       "    <tr>\n",
       "      <th>224</th>\n",
       "      <td>255</td>\n",
       "      <td>0.000000</td>\n",
       "    </tr>\n",
       "    <tr>\n",
       "      <th>222</th>\n",
       "      <td>252</td>\n",
       "      <td>0.000000</td>\n",
       "    </tr>\n",
       "    <tr>\n",
       "      <th>591</th>\n",
       "      <td>WT</td>\n",
       "      <td>0.000000</td>\n",
       "    </tr>\n",
       "  </tbody>\n",
       "</table>\n",
       "<p>592 rows × 2 columns</p>\n",
       "</div>"
      ],
      "text/plain": [
       "              cols  feature_importances\n",
       "509       CH.71010             0.027257\n",
       "204  2160.0_change             0.022644\n",
       "108     1719286.01             0.021794\n",
       "568       CH.J7060             0.016275\n",
       "321  373112.01_cum             0.016081\n",
       "..             ...                  ...\n",
       "226            257             0.000000\n",
       "225            256             0.000000\n",
       "224            255             0.000000\n",
       "222            252             0.000000\n",
       "591             WT             0.000000\n",
       "\n",
       "[592 rows x 2 columns]"
      ]
     },
     "execution_count": 5,
     "metadata": {},
     "output_type": "execute_result"
    }
   ],
   "source": [
    "df"
   ]
  },
  {
   "cell_type": "code",
   "execution_count": null,
   "metadata": {},
   "outputs": [],
   "source": []
  }
 ],
 "metadata": {
  "jupytext": {
   "formats": "ipynb,py:light"
  },
  "kernelspec": {
   "display_name": "Python 3",
   "language": "python",
   "name": "python3"
  },
  "language_info": {
   "codemirror_mode": {
    "name": "ipython",
    "version": 3
   },
   "file_extension": ".py",
   "mimetype": "text/x-python",
   "name": "python",
   "nbconvert_exporter": "python",
   "pygments_lexer": "ipython3",
   "version": "3.8.1"
  }
 },
 "nbformat": 4,
 "nbformat_minor": 4
}
